{
 "cells": [
  {
   "cell_type": "markdown",
   "metadata": {},
   "source": [
    "# Q3a Tagging prediction"
   ]
  },
  {
   "cell_type": "code",
   "execution_count": 1,
   "metadata": {
    "collapsed": true
   },
   "outputs": [],
   "source": [
    "import re\n",
    "import jieba\n",
    "import pandas as pd\n",
    "import numpy as np"
   ]
  },
  {
   "cell_type": "code",
   "execution_count": 2,
   "metadata": {
    "collapsed": true
   },
   "outputs": [],
   "source": [
    "# Loading the training set"
   ]
  },
  {
   "cell_type": "code",
   "execution_count": 3,
   "metadata": {
    "collapsed": true
   },
   "outputs": [],
   "source": [
    "df=pd.read_csv(\"offsite-tagging-training-set.csv\",index_col=\"id\")"
   ]
  },
  {
   "cell_type": "code",
   "execution_count": 4,
   "metadata": {},
   "outputs": [
    {
     "name": "stdout",
     "output_type": "stream",
     "text": [
      "<class 'pandas.core.frame.DataFrame'>\n",
      "Index: 4027 entries, 3443 to 77253\n",
      "Data columns (total 12 columns):\n",
      "tags           3895 non-null object\n",
      "text           3894 non-null object\n",
      "Unnamed: 3     18 non-null object\n",
      "Unnamed: 4     14 non-null object\n",
      "Unnamed: 5     4 non-null object\n",
      "Unnamed: 6     4 non-null object\n",
      "Unnamed: 7     3 non-null object\n",
      "Unnamed: 8     2 non-null object\n",
      "Unnamed: 9     1 non-null object\n",
      "Unnamed: 10    1 non-null object\n",
      "Unnamed: 11    1 non-null object\n",
      "Unnamed: 12    1 non-null object\n",
      "dtypes: object(12)\n",
      "memory usage: 409.0+ KB\n"
     ]
    }
   ],
   "source": [
    "df.info()"
   ]
  },
  {
   "cell_type": "code",
   "execution_count": 5,
   "metadata": {
    "collapsed": true
   },
   "outputs": [],
   "source": [
    "# Remove the redundant columns\n",
    "for i in range(3,13):\n",
    "    df.drop([\"Unnamed: \"+str(i)],axis=1,inplace=True)"
   ]
  },
  {
   "cell_type": "code",
   "execution_count": 6,
   "metadata": {
    "collapsed": true
   },
   "outputs": [],
   "source": [
    "df=df.dropna()"
   ]
  },
  {
   "cell_type": "code",
   "execution_count": 7,
   "metadata": {
    "collapsed": true
   },
   "outputs": [],
   "source": [
    "# Create a collection of Stopwords\n",
    "Stopword='的了和是就都而及與著或一個沒有我們你們妳們他們她們是否上下只乎些如果因為所以這麼也亦仍從此于但且'"
   ]
  },
  {
   "cell_type": "code",
   "execution_count": 8,
   "metadata": {
    "collapsed": true
   },
   "outputs": [],
   "source": [
    "# Create a column 'Clean' by removing the unnecessary wordings\n",
    "df['Clean']=df['text'].str.findall('[^\\da-zA-Z\\s\\W_%s]'%Stopword)"
   ]
  },
  {
   "cell_type": "code",
   "execution_count": 9,
   "metadata": {},
   "outputs": [
    {
     "data": {
      "text/plain": [
       "(3894, 3)"
      ]
     },
     "execution_count": 9,
     "metadata": {},
     "output_type": "execute_result"
    }
   ],
   "source": [
    "row,col=df.shape\n",
    "row,col"
   ]
  },
  {
   "cell_type": "code",
   "execution_count": 10,
   "metadata": {},
   "outputs": [
    {
     "data": {
      "text/html": [
       "<div>\n",
       "<style>\n",
       "    .dataframe thead tr:only-child th {\n",
       "        text-align: right;\n",
       "    }\n",
       "\n",
       "    .dataframe thead th {\n",
       "        text-align: left;\n",
       "    }\n",
       "\n",
       "    .dataframe tbody tr th {\n",
       "        vertical-align: top;\n",
       "    }\n",
       "</style>\n",
       "<table border=\"1\" class=\"dataframe\">\n",
       "  <thead>\n",
       "    <tr style=\"text-align: right;\">\n",
       "      <th></th>\n",
       "      <th>tags</th>\n",
       "      <th>text</th>\n",
       "      <th>Clean</th>\n",
       "    </tr>\n",
       "    <tr>\n",
       "      <th>id</th>\n",
       "      <th></th>\n",
       "      <th></th>\n",
       "      <th></th>\n",
       "    </tr>\n",
       "  </thead>\n",
       "  <tbody>\n",
       "    <tr>\n",
       "      <th>3443</th>\n",
       "      <td>足球</td>\n",
       "      <td>利物浦重賽擊敗乙組仔　英足盃過關 英格蘭足總盃第三圈今晨重賽，貴為英超勁旅的利物浦上場被乙組...</td>\n",
       "      <td>[利, 物, 浦, 重, 賽, 擊, 敗, 乙, 組, 仔, 英, 足, 盃, 過, 關, ...</td>\n",
       "    </tr>\n",
       "    <tr>\n",
       "      <th>76056</th>\n",
       "      <td>足球</td>\n",
       "      <td>【中超】恒大「暴力戰」絕殺國安　楊智反重力插水惹爭議（有片） 中超首輪賽事重頭戲，廣州恒大主...</td>\n",
       "      <td>[中, 超, 恒, 大, 暴, 力, 戰, 絕, 殺, 國, 安, 楊, 智, 反, 重, ...</td>\n",
       "    </tr>\n",
       "    <tr>\n",
       "      <th>93405</th>\n",
       "      <td>足球</td>\n",
       "      <td>【歐霸決賽】阿積士控球率起腳佔優　隊長卡拉臣輸波不服氣 阿積士以歐洲主要決賽最年輕、平均22...</td>\n",
       "      <td>[歐, 霸, 決, 賽, 阿, 積, 士, 控, 球, 率, 起, 腳, 佔, 優, 隊, ...</td>\n",
       "    </tr>\n",
       "    <tr>\n",
       "      <th>26767</th>\n",
       "      <td>足球</td>\n",
       "      <td>【歐國盃】韋莫斯澄清更衣室未內訌　盼以團結力量挫愛爾蘭 今晚3場直播\\n\\nE組｜比利時Vs...</td>\n",
       "      <td>[歐, 國, 盃, 韋, 莫, 斯, 澄, 清, 更, 衣, 室, 未, 內, 訌, 盼, ...</td>\n",
       "    </tr>\n",
       "    <tr>\n",
       "      <th>20843</th>\n",
       "      <td>梁振英</td>\n",
       "      <td>王維基參選　點解？ 王維基在宣布有意出選的記者會上，打出ABC，Anyone But CY的...</td>\n",
       "      <td>[王, 維, 基, 參, 選, 點, 解, 王, 維, 基, 在, 宣, 布, 意, 出, ...</td>\n",
       "    </tr>\n",
       "  </tbody>\n",
       "</table>\n",
       "</div>"
      ],
      "text/plain": [
       "      tags                                               text  \\\n",
       "id                                                              \n",
       "3443    足球  利物浦重賽擊敗乙組仔　英足盃過關 英格蘭足總盃第三圈今晨重賽，貴為英超勁旅的利物浦上場被乙組...   \n",
       "76056   足球  【中超】恒大「暴力戰」絕殺國安　楊智反重力插水惹爭議（有片） 中超首輪賽事重頭戲，廣州恒大主...   \n",
       "93405   足球  【歐霸決賽】阿積士控球率起腳佔優　隊長卡拉臣輸波不服氣 阿積士以歐洲主要決賽最年輕、平均22...   \n",
       "26767   足球  【歐國盃】韋莫斯澄清更衣室未內訌　盼以團結力量挫愛爾蘭 今晚3場直播\\n\\nE組｜比利時Vs...   \n",
       "20843  梁振英  王維基參選　點解？ 王維基在宣布有意出選的記者會上，打出ABC，Anyone But CY的...   \n",
       "\n",
       "                                                   Clean  \n",
       "id                                                        \n",
       "3443   [利, 物, 浦, 重, 賽, 擊, 敗, 乙, 組, 仔, 英, 足, 盃, 過, 關, ...  \n",
       "76056  [中, 超, 恒, 大, 暴, 力, 戰, 絕, 殺, 國, 安, 楊, 智, 反, 重, ...  \n",
       "93405  [歐, 霸, 決, 賽, 阿, 積, 士, 控, 球, 率, 起, 腳, 佔, 優, 隊, ...  \n",
       "26767  [歐, 國, 盃, 韋, 莫, 斯, 澄, 清, 更, 衣, 室, 未, 內, 訌, 盼, ...  \n",
       "20843  [王, 維, 基, 參, 選, 點, 解, 王, 維, 基, 在, 宣, 布, 意, 出, ...  "
      ]
     },
     "execution_count": 10,
     "metadata": {},
     "output_type": "execute_result"
    }
   ],
   "source": [
    "df.head()"
   ]
  },
  {
   "cell_type": "code",
   "execution_count": 11,
   "metadata": {},
   "outputs": [
    {
     "name": "stderr",
     "output_type": "stream",
     "text": [
      "Building prefix dict from the default dictionary ...\n",
      "Loading model from cache C:\\Users\\HoT\\AppData\\Local\\Temp\\jieba.cache\n",
      "Loading model cost 0.574 seconds.\n",
      "Prefix dict has been built succesfully.\n"
     ]
    }
   ],
   "source": [
    "# Using jieba to create the text into a list of Chinese vocabulary\n",
    "# This improves the text classification\n",
    "for i in range(row):\n",
    "    df.iloc[i,2]=''.join(df.iloc[i,2])\n",
    "    df.iloc[i,2]=' '.join(jieba.cut(df.iloc[i,2],cut_all=False))"
   ]
  },
  {
   "cell_type": "code",
   "execution_count": 12,
   "metadata": {},
   "outputs": [
    {
     "data": {
      "text/html": [
       "<div>\n",
       "<style>\n",
       "    .dataframe thead tr:only-child th {\n",
       "        text-align: right;\n",
       "    }\n",
       "\n",
       "    .dataframe thead th {\n",
       "        text-align: left;\n",
       "    }\n",
       "\n",
       "    .dataframe tbody tr th {\n",
       "        vertical-align: top;\n",
       "    }\n",
       "</style>\n",
       "<table border=\"1\" class=\"dataframe\">\n",
       "  <thead>\n",
       "    <tr style=\"text-align: right;\">\n",
       "      <th></th>\n",
       "      <th>tags</th>\n",
       "      <th>text</th>\n",
       "      <th>Clean</th>\n",
       "    </tr>\n",
       "    <tr>\n",
       "      <th>id</th>\n",
       "      <th></th>\n",
       "      <th></th>\n",
       "      <th></th>\n",
       "    </tr>\n",
       "  </thead>\n",
       "  <tbody>\n",
       "    <tr>\n",
       "      <th>3443</th>\n",
       "      <td>足球</td>\n",
       "      <td>利物浦重賽擊敗乙組仔　英足盃過關 英格蘭足總盃第三圈今晨重賽，貴為英超勁旅的利物浦上場被乙組...</td>\n",
       "      <td>利物浦 重賽 擊敗 乙組 仔英足 盃 過關 英格蘭足 總 盃 第三圈 今晨 重賽 貴 英超 ...</td>\n",
       "    </tr>\n",
       "    <tr>\n",
       "      <th>76056</th>\n",
       "      <td>足球</td>\n",
       "      <td>【中超】恒大「暴力戰」絕殺國安　楊智反重力插水惹爭議（有片） 中超首輪賽事重頭戲，廣州恒大主...</td>\n",
       "      <td>中 超恒大 暴力 戰絕 殺國安 楊智反 重力 插水 惹 爭議 片中 超首 輪賽 事 重頭 戲...</td>\n",
       "    </tr>\n",
       "    <tr>\n",
       "      <th>93405</th>\n",
       "      <td>足球</td>\n",
       "      <td>【歐霸決賽】阿積士控球率起腳佔優　隊長卡拉臣輸波不服氣 阿積士以歐洲主要決賽最年輕、平均22...</td>\n",
       "      <td>歐霸 決賽 阿積士 控球 率起 腳 佔 優隊 長 卡拉 臣輸波 不服 氣阿積士 歐洲 主要 ...</td>\n",
       "    </tr>\n",
       "    <tr>\n",
       "      <th>26767</th>\n",
       "      <td>足球</td>\n",
       "      <td>【歐國盃】韋莫斯澄清更衣室未內訌　盼以團結力量挫愛爾蘭 今晚3場直播\\n\\nE組｜比利時Vs...</td>\n",
       "      <td>歐國 盃 韋莫斯 澄清 更衣室 未內訌 盼 團結 力量 挫愛爾蘭 今晚 場 直播 組 比利 ...</td>\n",
       "    </tr>\n",
       "    <tr>\n",
       "      <th>20843</th>\n",
       "      <td>梁振英</td>\n",
       "      <td>王維基參選　點解？ 王維基在宣布有意出選的記者會上，打出ABC，Anyone But CY的...</td>\n",
       "      <td>王維基 參選點 解王 維基 在 宣布 意出 選記者 會 打 出口 號說 要 香港 代做 點事...</td>\n",
       "    </tr>\n",
       "  </tbody>\n",
       "</table>\n",
       "</div>"
      ],
      "text/plain": [
       "      tags                                               text  \\\n",
       "id                                                              \n",
       "3443    足球  利物浦重賽擊敗乙組仔　英足盃過關 英格蘭足總盃第三圈今晨重賽，貴為英超勁旅的利物浦上場被乙組...   \n",
       "76056   足球  【中超】恒大「暴力戰」絕殺國安　楊智反重力插水惹爭議（有片） 中超首輪賽事重頭戲，廣州恒大主...   \n",
       "93405   足球  【歐霸決賽】阿積士控球率起腳佔優　隊長卡拉臣輸波不服氣 阿積士以歐洲主要決賽最年輕、平均22...   \n",
       "26767   足球  【歐國盃】韋莫斯澄清更衣室未內訌　盼以團結力量挫愛爾蘭 今晚3場直播\\n\\nE組｜比利時Vs...   \n",
       "20843  梁振英  王維基參選　點解？ 王維基在宣布有意出選的記者會上，打出ABC，Anyone But CY的...   \n",
       "\n",
       "                                                   Clean  \n",
       "id                                                        \n",
       "3443   利物浦 重賽 擊敗 乙組 仔英足 盃 過關 英格蘭足 總 盃 第三圈 今晨 重賽 貴 英超 ...  \n",
       "76056  中 超恒大 暴力 戰絕 殺國安 楊智反 重力 插水 惹 爭議 片中 超首 輪賽 事 重頭 戲...  \n",
       "93405  歐霸 決賽 阿積士 控球 率起 腳 佔 優隊 長 卡拉 臣輸波 不服 氣阿積士 歐洲 主要 ...  \n",
       "26767  歐國 盃 韋莫斯 澄清 更衣室 未內訌 盼 團結 力量 挫愛爾蘭 今晚 場 直播 組 比利 ...  \n",
       "20843  王維基 參選點 解王 維基 在 宣布 意出 選記者 會 打 出口 號說 要 香港 代做 點事...  "
      ]
     },
     "execution_count": 12,
     "metadata": {},
     "output_type": "execute_result"
    }
   ],
   "source": [
    "df.head()"
   ]
  },
  {
   "cell_type": "code",
   "execution_count": 13,
   "metadata": {
    "collapsed": true
   },
   "outputs": [],
   "source": [
    "# Split the train set in to a sub-train set and a sub-test set\n",
    "# This can be used for estimate the performance of model"
   ]
  },
  {
   "cell_type": "code",
   "execution_count": 14,
   "metadata": {
    "collapsed": true
   },
   "outputs": [],
   "source": [
    "from sklearn.model_selection import train_test_split"
   ]
  },
  {
   "cell_type": "code",
   "execution_count": 15,
   "metadata": {
    "collapsed": true
   },
   "outputs": [],
   "source": [
    "X=df.iloc[:,2].values\n",
    "y=df.iloc[:,0].values"
   ]
  },
  {
   "cell_type": "code",
   "execution_count": 16,
   "metadata": {
    "collapsed": true
   },
   "outputs": [],
   "source": [
    "X_train,X_test,y_train,y_test=train_test_split(X,y,test_size=0.2,random_state=21)"
   ]
  },
  {
   "cell_type": "code",
   "execution_count": null,
   "metadata": {
    "collapsed": true
   },
   "outputs": [],
   "source": [
    "# Feature extraction "
   ]
  },
  {
   "cell_type": "code",
   "execution_count": 17,
   "metadata": {
    "collapsed": true
   },
   "outputs": [],
   "source": [
    "from sklearn.feature_extraction.text import CountVectorizer"
   ]
  },
  {
   "cell_type": "code",
   "execution_count": 18,
   "metadata": {
    "collapsed": true
   },
   "outputs": [],
   "source": [
    "Count=CountVectorizer(min_df=1,ngram_range=(1,2))\n",
    "Count_train=Count.fit_transform(X_train)\n",
    "Count_test=Count.transform(X_test)"
   ]
  },
  {
   "cell_type": "code",
   "execution_count": 19,
   "metadata": {
    "collapsed": true
   },
   "outputs": [],
   "source": [
    "from sklearn.pipeline import Pipeline\n",
    "from sklearn.naive_bayes import MultinomialNB"
   ]
  },
  {
   "cell_type": "code",
   "execution_count": 20,
   "metadata": {
    "collapsed": true
   },
   "outputs": [],
   "source": [
    "steps=[('clf',MultinomialNB())]\n",
    "pipeline=Pipeline(steps)"
   ]
  },
  {
   "cell_type": "code",
   "execution_count": 21,
   "metadata": {
    "collapsed": true
   },
   "outputs": [],
   "source": [
    "# Parameter alpha is a smoothing parameter in Naive Bayes classifier for multinomial models"
   ]
  },
  {
   "cell_type": "code",
   "execution_count": 22,
   "metadata": {
    "collapsed": true
   },
   "outputs": [],
   "source": [
    "param_grid={'clf__alpha':np.linspace(0,10,50)}"
   ]
  },
  {
   "cell_type": "code",
   "execution_count": 23,
   "metadata": {
    "collapsed": true
   },
   "outputs": [],
   "source": [
    "# Using Gridsearch to find the optimal parameter alpha"
   ]
  },
  {
   "cell_type": "code",
   "execution_count": 24,
   "metadata": {
    "collapsed": true
   },
   "outputs": [],
   "source": [
    "from sklearn.model_selection import GridSearchCV"
   ]
  },
  {
   "cell_type": "code",
   "execution_count": 25,
   "metadata": {
    "collapsed": true
   },
   "outputs": [],
   "source": [
    "clf_cv=GridSearchCV(pipeline,param_grid)"
   ]
  },
  {
   "cell_type": "code",
   "execution_count": 26,
   "metadata": {},
   "outputs": [
    {
     "name": "stderr",
     "output_type": "stream",
     "text": [
      "C:\\Users\\HoT\\Anaconda3_2\\lib\\site-packages\\sklearn\\naive_bayes.py:472: UserWarning: alpha too small will result in numeric errors, setting alpha = 1.0e-10\n",
      "  'setting alpha = %.1e' % _ALPHA_MIN)\n",
      "C:\\Users\\HoT\\Anaconda3_2\\lib\\site-packages\\sklearn\\naive_bayes.py:472: UserWarning: alpha too small will result in numeric errors, setting alpha = 1.0e-10\n",
      "  'setting alpha = %.1e' % _ALPHA_MIN)\n",
      "C:\\Users\\HoT\\Anaconda3_2\\lib\\site-packages\\sklearn\\naive_bayes.py:472: UserWarning: alpha too small will result in numeric errors, setting alpha = 1.0e-10\n",
      "  'setting alpha = %.1e' % _ALPHA_MIN)\n"
     ]
    },
    {
     "data": {
      "text/plain": [
       "GridSearchCV(cv=None, error_score='raise',\n",
       "       estimator=Pipeline(memory=None,\n",
       "     steps=[('clf', MultinomialNB(alpha=1.0, class_prior=None, fit_prior=True))]),\n",
       "       fit_params=None, iid=True, n_jobs=1,\n",
       "       param_grid={'clf__alpha': array([  0.     ,   0.20408,   0.40816,   0.61224,   0.81633,   1.02041,\n",
       "         1.22449,   1.42857,   1.63265,   1.83673,   2.04082,   2.2449 ,\n",
       "         2.44898,   2.65306,   2.85714,   3.06122,   3.26531,   3.46939,\n",
       "         3.67347,   3.87755,   4.08163,   4.28571,   4....      8.57143,   8.77551,   8.97959,   9.18367,   9.38776,   9.59184,\n",
       "         9.79592,  10.     ])},\n",
       "       pre_dispatch='2*n_jobs', refit=True, return_train_score='warn',\n",
       "       scoring=None, verbose=0)"
      ]
     },
     "execution_count": 26,
     "metadata": {},
     "output_type": "execute_result"
    }
   ],
   "source": [
    "clf_cv.fit(Count_train,y_train)"
   ]
  },
  {
   "cell_type": "code",
   "execution_count": 27,
   "metadata": {},
   "outputs": [
    {
     "name": "stdout",
     "output_type": "stream",
     "text": [
      "The best parameter is {'clf__alpha': 3.8775510204081636}\n"
     ]
    }
   ],
   "source": [
    "print(\"The best parameter is\",clf_cv.best_params_)"
   ]
  },
  {
   "cell_type": "code",
   "execution_count": 28,
   "metadata": {},
   "outputs": [
    {
     "name": "stdout",
     "output_type": "stream",
     "text": [
      "Accuracy for the sub-train set = 0.9996789727126806\n",
      "Accuracy for the sub-test set = 0.993581514762516\n"
     ]
    }
   ],
   "source": [
    "print('Accuracy for the sub-train set = {}'.format(clf_cv.score(Count_train,y_train)))\n",
    "print('Accuracy for the sub-test set = {}'.format(clf_cv.score(Count_test,y_test)))"
   ]
  },
  {
   "cell_type": "code",
   "execution_count": 29,
   "metadata": {
    "collapsed": true
   },
   "outputs": [],
   "source": [
    "# Loading the test set for tagging prediction"
   ]
  },
  {
   "cell_type": "code",
   "execution_count": 30,
   "metadata": {
    "collapsed": true
   },
   "outputs": [],
   "source": [
    "df_test=pd.read_csv(\"offsite-tagging-test-set.csv\",index_col=\"id\")"
   ]
  },
  {
   "cell_type": "code",
   "execution_count": 31,
   "metadata": {},
   "outputs": [
    {
     "data": {
      "text/html": [
       "<div>\n",
       "<style>\n",
       "    .dataframe thead tr:only-child th {\n",
       "        text-align: right;\n",
       "    }\n",
       "\n",
       "    .dataframe thead th {\n",
       "        text-align: left;\n",
       "    }\n",
       "\n",
       "    .dataframe tbody tr th {\n",
       "        vertical-align: top;\n",
       "    }\n",
       "</style>\n",
       "<table border=\"1\" class=\"dataframe\">\n",
       "  <thead>\n",
       "    <tr style=\"text-align: right;\">\n",
       "      <th></th>\n",
       "      <th>text</th>\n",
       "    </tr>\n",
       "    <tr>\n",
       "      <th>id</th>\n",
       "      <th></th>\n",
       "    </tr>\n",
       "  </thead>\n",
       "  <tbody>\n",
       "    <tr>\n",
       "      <th>6</th>\n",
       "      <td>南華添鋒力　簽前厄瓜多爾國腳保耶 港超勁旅南華宣布羅致前厄瓜多爾國腳菲力斯保耶（Felix ...</td>\n",
       "    </tr>\n",
       "    <tr>\n",
       "      <th>128</th>\n",
       "      <td>如果大學$0捐款　科大嶺南將蝕過千萬元 據now新聞台報道，身兼8大校監的特首梁振英曾以大學...</td>\n",
       "    </tr>\n",
       "    <tr>\n",
       "      <th>136</th>\n",
       "      <td>英超最強火力對碰　雙城爭冠靠鋒霸 英超今季風起雲湧，傳統「Big 5」只剩兩隊名列積分榜前5...</td>\n",
       "    </tr>\n",
       "    <tr>\n",
       "      <th>213</th>\n",
       "      <td>【01球評】膺半程冠軍　阿仙奴今季不奪標更待何時？ 近年「兵工廠」每季的起落都離不開一個循環...</td>\n",
       "    </tr>\n",
       "    <tr>\n",
       "      <th>658</th>\n",
       "      <td>【書商失蹤】梁振英：希望失蹤的李波本人提供資料 行政長官梁振英出席行政會議前見記者，被問及李...</td>\n",
       "    </tr>\n",
       "  </tbody>\n",
       "</table>\n",
       "</div>"
      ],
      "text/plain": [
       "                                                  text\n",
       "id                                                    \n",
       "6    南華添鋒力　簽前厄瓜多爾國腳保耶 港超勁旅南華宣布羅致前厄瓜多爾國腳菲力斯保耶（Felix ...\n",
       "128  如果大學$0捐款　科大嶺南將蝕過千萬元 據now新聞台報道，身兼8大校監的特首梁振英曾以大學...\n",
       "136  英超最強火力對碰　雙城爭冠靠鋒霸 英超今季風起雲湧，傳統「Big 5」只剩兩隊名列積分榜前5...\n",
       "213  【01球評】膺半程冠軍　阿仙奴今季不奪標更待何時？ 近年「兵工廠」每季的起落都離不開一個循環...\n",
       "658  【書商失蹤】梁振英：希望失蹤的李波本人提供資料 行政長官梁振英出席行政會議前見記者，被問及李..."
      ]
     },
     "execution_count": 31,
     "metadata": {},
     "output_type": "execute_result"
    }
   ],
   "source": [
    "df_test.head()"
   ]
  },
  {
   "cell_type": "code",
   "execution_count": 32,
   "metadata": {},
   "outputs": [
    {
     "name": "stdout",
     "output_type": "stream",
     "text": [
      "<class 'pandas.core.frame.DataFrame'>\n",
      "Int64Index: 974 entries, 6 to 94324\n",
      "Data columns (total 1 columns):\n",
      "text    974 non-null object\n",
      "dtypes: object(1)\n",
      "memory usage: 15.2+ KB\n"
     ]
    }
   ],
   "source": [
    "df_test.info()"
   ]
  },
  {
   "cell_type": "code",
   "execution_count": 33,
   "metadata": {
    "collapsed": true
   },
   "outputs": [],
   "source": [
    "# Preprocessing the text data"
   ]
  },
  {
   "cell_type": "code",
   "execution_count": 34,
   "metadata": {
    "collapsed": true
   },
   "outputs": [],
   "source": [
    "df_test['Clean']=df_test['text'].str.findall('[^\\da-zA-Z\\s\\W_%s]'%Stopword)"
   ]
  },
  {
   "cell_type": "code",
   "execution_count": 35,
   "metadata": {
    "collapsed": true
   },
   "outputs": [],
   "source": [
    "row_t,col_t=df_test.shape"
   ]
  },
  {
   "cell_type": "code",
   "execution_count": 36,
   "metadata": {
    "collapsed": true
   },
   "outputs": [],
   "source": [
    "for i in range(row_t):\n",
    "    df_test.iloc[i,1]=''.join(df_test.iloc[i,1])\n",
    "    df_test.iloc[i,1]=' '.join(jieba.cut(df_test.iloc[i,1],cut_all=False))"
   ]
  },
  {
   "cell_type": "code",
   "execution_count": 37,
   "metadata": {},
   "outputs": [
    {
     "data": {
      "text/html": [
       "<div>\n",
       "<style>\n",
       "    .dataframe thead tr:only-child th {\n",
       "        text-align: right;\n",
       "    }\n",
       "\n",
       "    .dataframe thead th {\n",
       "        text-align: left;\n",
       "    }\n",
       "\n",
       "    .dataframe tbody tr th {\n",
       "        vertical-align: top;\n",
       "    }\n",
       "</style>\n",
       "<table border=\"1\" class=\"dataframe\">\n",
       "  <thead>\n",
       "    <tr style=\"text-align: right;\">\n",
       "      <th></th>\n",
       "      <th>text</th>\n",
       "      <th>Clean</th>\n",
       "    </tr>\n",
       "    <tr>\n",
       "      <th>id</th>\n",
       "      <th></th>\n",
       "      <th></th>\n",
       "    </tr>\n",
       "  </thead>\n",
       "  <tbody>\n",
       "    <tr>\n",
       "      <th>6</th>\n",
       "      <td>南華添鋒力　簽前厄瓜多爾國腳保耶 港超勁旅南華宣布羅致前厄瓜多爾國腳菲力斯保耶（Felix ...</td>\n",
       "      <td>南華 添鋒力 簽前 厄瓜 多爾國腳 保耶港 超勁 旅南華 宣布 羅 致前 厄瓜 多爾國 腳菲...</td>\n",
       "    </tr>\n",
       "    <tr>\n",
       "      <th>128</th>\n",
       "      <td>如果大學$0捐款　科大嶺南將蝕過千萬元 據now新聞台報道，身兼8大校監的特首梁振英曾以大學...</td>\n",
       "      <td>大學 捐款 科大 嶺南 將蝕 過千萬元據 新聞台 報道 身兼 大校 監 特首 梁振英 曾大學...</td>\n",
       "    </tr>\n",
       "    <tr>\n",
       "      <th>136</th>\n",
       "      <td>英超最強火力對碰　雙城爭冠靠鋒霸 英超今季風起雲湧，傳統「Big 5」只剩兩隊名列積分榜前5...</td>\n",
       "      <td>英超 最強 火力 對 碰 雙城爭 冠靠鋒 霸 英超 今季 風起 雲湧 傳統 剩 兩隊 名列 ...</td>\n",
       "    </tr>\n",
       "    <tr>\n",
       "      <th>213</th>\n",
       "      <td>【01球評】膺半程冠軍　阿仙奴今季不奪標更待何時？ 近年「兵工廠」每季的起落都離不開一個循環...</td>\n",
       "      <td>球 評膺 半程 冠 軍 阿仙奴 今季 不奪標 更 待 何時 近年 兵工 廠 每季 起落 離不...</td>\n",
       "    </tr>\n",
       "    <tr>\n",
       "      <th>658</th>\n",
       "      <td>【書商失蹤】梁振英：希望失蹤的李波本人提供資料 行政長官梁振英出席行政會議前見記者，被問及李...</td>\n",
       "      <td>書商 失 蹤 梁 振 英 希望 失 蹤 李 波 本人 提供 資料 行政 長 官 梁振英 出席...</td>\n",
       "    </tr>\n",
       "  </tbody>\n",
       "</table>\n",
       "</div>"
      ],
      "text/plain": [
       "                                                  text  \\\n",
       "id                                                       \n",
       "6    南華添鋒力　簽前厄瓜多爾國腳保耶 港超勁旅南華宣布羅致前厄瓜多爾國腳菲力斯保耶（Felix ...   \n",
       "128  如果大學$0捐款　科大嶺南將蝕過千萬元 據now新聞台報道，身兼8大校監的特首梁振英曾以大學...   \n",
       "136  英超最強火力對碰　雙城爭冠靠鋒霸 英超今季風起雲湧，傳統「Big 5」只剩兩隊名列積分榜前5...   \n",
       "213  【01球評】膺半程冠軍　阿仙奴今季不奪標更待何時？ 近年「兵工廠」每季的起落都離不開一個循環...   \n",
       "658  【書商失蹤】梁振英：希望失蹤的李波本人提供資料 行政長官梁振英出席行政會議前見記者，被問及李...   \n",
       "\n",
       "                                                 Clean  \n",
       "id                                                      \n",
       "6    南華 添鋒力 簽前 厄瓜 多爾國腳 保耶港 超勁 旅南華 宣布 羅 致前 厄瓜 多爾國 腳菲...  \n",
       "128  大學 捐款 科大 嶺南 將蝕 過千萬元據 新聞台 報道 身兼 大校 監 特首 梁振英 曾大學...  \n",
       "136  英超 最強 火力 對 碰 雙城爭 冠靠鋒 霸 英超 今季 風起 雲湧 傳統 剩 兩隊 名列 ...  \n",
       "213  球 評膺 半程 冠 軍 阿仙奴 今季 不奪標 更 待 何時 近年 兵工 廠 每季 起落 離不...  \n",
       "658  書商 失 蹤 梁 振 英 希望 失 蹤 李 波 本人 提供 資料 行政 長 官 梁振英 出席...  "
      ]
     },
     "execution_count": 37,
     "metadata": {},
     "output_type": "execute_result"
    }
   ],
   "source": [
    "df_test.head()"
   ]
  },
  {
   "cell_type": "code",
   "execution_count": 38,
   "metadata": {
    "collapsed": true
   },
   "outputs": [],
   "source": [
    "X_rtest=df_test.iloc[:,1].values"
   ]
  },
  {
   "cell_type": "code",
   "execution_count": 39,
   "metadata": {
    "collapsed": true
   },
   "outputs": [],
   "source": [
    "Ctest=Count.transform(X_rtest)"
   ]
  },
  {
   "cell_type": "code",
   "execution_count": 40,
   "metadata": {
    "collapsed": true
   },
   "outputs": [],
   "source": [
    "pred=clf_cv.predict(Ctest)"
   ]
  },
  {
   "cell_type": "markdown",
   "metadata": {},
   "source": [
    "# The resulting tagging prediction for the given test set"
   ]
  },
  {
   "cell_type": "code",
   "execution_count": 41,
   "metadata": {},
   "outputs": [
    {
     "data": {
      "text/plain": [
       "array(['足球', '梁振英', '足球', '足球', '梁振英', '梁振英', '梁振英', '足球', '足球', '足球',\n",
       "       '足球', '足球', '足球', '足球', '足球', '足球', '足球', '梁振英', '梁振英', '梁振英',\n",
       "       '美國大選', '梁振英', '梁振英', '梁振英', '梁振英', '梁振英', '足球', '梁振英', '足球', '梁振英',\n",
       "       '足球', '梁振英', '足球', '足球', '足球', '足球', '梁振英', '美國大選', '足球', '美國大選',\n",
       "       '足球', '梁振英', '足球', '足球', '足球', '足球', '足球', '足球', '足球', '足球', '足球',\n",
       "       '美國大選', '足球', '足球', '美國大選', '足球', '足球', '足球', '足球', '足球', '足球',\n",
       "       '美國大選', '美國大選', '美國大選', '美國大選', '足球', '足球', '美國大選', '足球', '足球',\n",
       "       '足球', '足球', '足球', '梁振英', '足球', '足球', '足球', '足球', '足球', '足球', '足球',\n",
       "       '美國大選', '梁振英', '美國大選', '美國大選', '美國大選', '足球', '梁振英', '足球', '足球',\n",
       "       '足球', '美國大選', '梁振英', '足球', '足球', '足球', '足球', '足球', '足球', '足球',\n",
       "       '美國大選', '足球', '足球', '足球', '足球', '梁振英', '足球', '足球', '足球', '梁振英',\n",
       "       '美國大選', '梁振英', '足球', '足球', '足球', '梁振英', '梁振英', '美國大選', '美國大選',\n",
       "       '美國大選', '美國大選', '足球', '足球', '美國大選', '梁振英', '美國大選', '梁振英', '美國大選',\n",
       "       '足球', '足球', '足球', '足球', '梁振英', '足球', '美國大選', '足球', '足球', '足球', '足球',\n",
       "       '足球', '足球', '足球', '美國大選', '美國大選', '美國大選', '足球', '足球', '足球', '梁振英',\n",
       "       '足球', '足球', '足球', '足球', '足球', '足球', '梁振英', '足球', '美國大選', '足球',\n",
       "       '美國大選', '足球', '足球', '足球', '足球', '足球', '足球', '足球', '足球', '足球', '梁振英',\n",
       "       '足球', '足球', '足球', '梁振英', '美國大選', '梁振英', '梁振英', '梁振英', '梁振英', '足球',\n",
       "       '足球', '梁振英', '梁振英', '足球', '美國大選', '梁振英', '梁振英', '梁振英', '足球', '梁振英',\n",
       "       '梁振英', '足球', '足球', '梁振英', '足球', '足球', '足球', '梁振英', '梁振英', '足球',\n",
       "       '足球', '梁振英', '梁振英', '梁振英', '梁振英', '梁振英', '足球', '梁振英', '梁振英', '梁振英',\n",
       "       '美國大選', '足球', '美國大選', '美國大選', '梁振英', '足球', '美國大選', '梁振英', '足球',\n",
       "       '足球', '足球', '足球', '梁振英', '足球', '足球', '足球', '足球', '足球', '美國大選',\n",
       "       '美國大選', '美國大選', '美國大選', '足球', '足球', '足球', '足球', '梁振英', '足球', '足球',\n",
       "       '足球', '梁振英', '美國大選', '梁振英', '足球', '足球', '足球', '足球', '足球', '足球',\n",
       "       '足球', '足球', '美國大選', '美國大選', '足球', '足球', '梁振英', '梁振英', '梁振英', '梁振英',\n",
       "       '足球', '足球', '梁振英', '梁振英', '梁振英', '足球', '梁振英', '美國大選', '足球', '足球',\n",
       "       '足球', '足球', '足球', '美國大選', '美國大選', '足球', '足球', '梁振英', '梁振英', '足球',\n",
       "       '梁振英', '足球', '梁振英', '足球', '梁振英', '梁振英', '美國大選', '梁振英', '足球', '足球',\n",
       "       '梁振英', '美國大選', '梁振英', '足球', '足球', '足球', '美國大選', '足球', '美國大選', '梁振英',\n",
       "       '梁振英', '梁振英', '美國大選', '梁振英', '梁振英', '足球', '美國大選', '足球', '梁振英', '足球',\n",
       "       '足球', '足球', '足球', '梁振英', '足球', '足球', '足球', '足球', '足球', '足球', '足球',\n",
       "       '足球', '足球', '美國大選', '足球', '足球', '足球', '足球', '足球', '足球', '足球', '足球',\n",
       "       '足球', '足球', '足球', '足球', '足球', '足球', '足球', '梁振英', '梁振英', '梁振英', '足球',\n",
       "       '足球', '足球', '足球', '足球', '梁振英', '足球', '足球', '足球', '足球', '足球', '梁振英',\n",
       "       '足球', '足球', '梁振英', '足球', '足球', '美國大選', '梁振英', '足球', '足球', '梁振英',\n",
       "       '梁振英', '梁振英', '梁振英', '足球', '足球', '足球', '足球', '足球', '足球', '足球', '足球',\n",
       "       '梁振英', '梁振英', '梁振英', '足球', '梁振英', '足球', '足球', '足球', '梁振英', '足球',\n",
       "       '足球', '足球', '足球', '美國大選', '足球', '美國大選', '足球', '美國大選', '美國大選', '足球',\n",
       "       '足球', '足球', '足球', '足球', '美國大選', '足球', '美國大選', '足球', '梁振英', '梁振英',\n",
       "       '足球', '足球', '足球', '美國大選', '足球', '美國大選', '足球', '梁振英', '梁振英', '美國大選',\n",
       "       '足球', '足球', '足球', '梁振英', '美國大選', '足球', '足球', '足球', '美國大選', '足球',\n",
       "       '足球', '足球', '梁振英', '梁振英', '足球', '足球', '足球', '足球', '足球', '足球',\n",
       "       '美國大選', '足球', '足球', '梁振英', '美國大選', '梁振英', '梁振英', '梁振英', '足球', '足球',\n",
       "       '足球', '美國大選', '梁振英', '足球', '梁振英', '美國大選', '足球', '足球', '美國大選',\n",
       "       '美國大選', '美國大選', '梁振英', '足球', '梁振英', '美國大選', '梁振英', '梁振英', '梁振英',\n",
       "       '美國大選', '梁振英', '梁振英', '梁振英', '美國大選', '足球', '足球', '美國大選', '梁振英',\n",
       "       '美國大選', '美國大選', '美國大選', '梁振英', '美國大選', '美國大選', '梁振英', '美國大選',\n",
       "       '美國大選', '足球', '美國大選', '美國大選', '美國大選', '足球', '梁振英', '美國大選', '美國大選',\n",
       "       '美國大選', '足球', '美國大選', '美國大選', '足球', '梁振英', '梁振英', '美國大選', '美國大選',\n",
       "       '美國大選', '足球', '足球', '足球', '美國大選', '足球', '美國大選', '足球', '美國大選', '梁振英',\n",
       "       '梁振英', '美國大選', '梁振英', '梁振英', '美國大選', '美國大選', '美國大選', '梁振英', '梁振英',\n",
       "       '足球', '足球', '梁振英', '足球', '美國大選', '美國大選', '足球', '梁振英', '足球', '美國大選',\n",
       "       '足球', '美國大選', '梁振英', '足球', '美國大選', '梁振英', '美國大選', '梁振英', '美國大選',\n",
       "       '美國大選', '足球', '足球', '美國大選', '美國大選', '美國大選', '梁振英', '梁振英', '足球',\n",
       "       '足球', '美國大選', '美國大選', '美國大選', '美國大選', '美國大選', '足球', '美國大選', '美國大選',\n",
       "       '美國大選', '美國大選', '美國大選', '美國大選', '美國大選', '美國大選', '美國大選', '美國大選',\n",
       "       '美國大選', '美國大選', '美國大選', '梁振英', '梁振英', '美國大選', '美國大選', '足球', '美國大選',\n",
       "       '美國大選', '美國大選', '美國大選', '梁振英', '梁振英', '美國大選', '美國大選', '梁振英', '梁振英',\n",
       "       '梁振英', '美國大選', '足球', '足球', '美國大選', '足球', '梁振英', '足球', '梁振英', '梁振英',\n",
       "       '足球', '美國大選', '美國大選', '美國大選', '美國大選', '美國大選', '足球', '美國大選', '足球',\n",
       "       '梁振英', '足球', '美國大選', '美國大選', '美國大選', '梁振英', '梁振英', '美國大選', '美國大選',\n",
       "       '美國大選', '梁振英', '美國大選', '美國大選', '美國大選', '美國大選', '足球', '梁振英', '美國大選',\n",
       "       '美國大選', '美國大選', '美國大選', '美國大選', '足球', '美國大選', '美國大選', '梁振英', '足球',\n",
       "       '美國大選', '美國大選', '美國大選', '美國大選', '美國大選', '足球', '美國大選', '美國大選',\n",
       "       '美國大選', '美國大選', '美國大選', '美國大選', '美國大選', '美國大選', '美國大選', '美國大選',\n",
       "       '梁振英', '美國大選', '美國大選', '美國大選', '美國大選', '美國大選', '美國大選', '美國大選', '足球',\n",
       "       '美國大選', '美國大選', '美國大選', '美國大選', '美國大選', '美國大選', '美國大選', '美國大選',\n",
       "       '美國大選', '美國大選', '美國大選', '美國大選', '足球', '美國大選', '足球', '美國大選', '足球',\n",
       "       '足球', '美國大選', '美國大選', '足球', '美國大選', '美國大選', '足球', '梁振英', '梁振英',\n",
       "       '美國大選', '足球', '美國大選', '美國大選', '足球', '足球', '梁振英', '美國大選', '足球', '足球',\n",
       "       '梁振英', '梁振英', '足球', '足球', '梁振英', '足球', '足球', '足球', '足球', '梁振英',\n",
       "       '梁振英', '美國大選', '足球', '足球', '足球', '足球', '梁振英', '梁振英', '梁振英', '足球',\n",
       "       '足球', '足球', '梁振英', '梁振英', '梁振英', '梁振英', '梁振英', '梁振英', '梁振英', '梁振英',\n",
       "       '梁振英', '梁振英', '美國大選', '梁振英', '梁振英', '梁振英', '梁振英', '梁振英', '足球', '足球',\n",
       "       '梁振英', '梁振英', '足球', '梁振英', '梁振英', '足球', '足球', '足球', '梁振英', '足球',\n",
       "       '美國大選', '梁振英', '梁振英', '美國大選', '梁振英', '梁振英', '足球', '足球', '梁振英',\n",
       "       '梁振英', '足球', '梁振英', '梁振英', '足球', '足球', '梁振英', '足球', '足球', '足球',\n",
       "       '梁振英', '足球', '梁振英', '美國大選', '足球', '足球', '足球', '足球', '足球', '足球',\n",
       "       '足球', '足球', '美國大選', '美國大選', '梁振英', '足球', '美國大選', '梁振英', '梁振英', '足球',\n",
       "       '足球', '足球', '足球', '足球', '梁振英', '梁振英', '足球', '足球', '梁振英', '足球',\n",
       "       '美國大選', '足球', '足球', '足球', '梁振英', '足球', '足球', '足球', '足球', '美國大選',\n",
       "       '梁振英', '足球', '足球', '梁振英', '足球', '足球', '足球', '足球', '足球', '足球', '足球',\n",
       "       '梁振英', '足球', '足球', '足球', '足球', '足球', '足球', '梁振英', '足球', '足球', '足球',\n",
       "       '足球', '足球', '足球', '足球', '足球', '足球', '梁振英', '足球', '足球', '足球', '足球',\n",
       "       '足球', '足球', '足球', '足球', '梁振英', '梁振英', '足球', '足球', '足球', '梁振英', '足球',\n",
       "       '足球', '足球', '梁振英', '足球', '足球', '足球', '足球', '梁振英', '足球', '足球', '足球',\n",
       "       '足球', '梁振英', '足球', '梁振英', '梁振英', '足球', '足球', '足球', '足球', '足球', '足球',\n",
       "       '足球', '足球', '足球', '足球', '足球', '足球', '足球', '足球', '梁振英', '足球', '足球',\n",
       "       '足球', '足球', '足球', '足球', '足球', '足球', '足球', '足球', '足球', '足球', '足球',\n",
       "       '足球', '足球', '足球', '足球', '足球', '足球', '足球', '足球', '足球', '足球', '足球',\n",
       "       '足球', '梁振英', '梁振英', '足球', '梁振英', '足球', '足球', '梁振英', '足球', '足球',\n",
       "       '足球', '足球', '足球', '足球', '梁振英', '梁振英', '足球', '梁振英', '足球', '梁振英',\n",
       "       '梁振英', '梁振英', '梁振英', '足球', '足球', '足球', '足球', '足球', '足球', '梁振英',\n",
       "       '足球', '足球', '足球', '梁振英', '足球', '足球', '足球', '足球', '足球', '足球', '足球',\n",
       "       '足球', '梁振英', '足球', '足球', '足球', '梁振英', '足球', '梁振英', '足球', '梁振英',\n",
       "       '足球', '梁振英', '足球', '梁振英', '足球', '梁振英', '足球', '梁振英', '足球', '足球',\n",
       "       '足球', '梁振英', '梁振英', '足球', '足球', '梁振英', '足球', '足球', '足球', '梁振英',\n",
       "       '足球', '梁振英', '足球', '梁振英', '足球', '足球', '足球', '足球', '足球'], \n",
       "      dtype='<U4')"
      ]
     },
     "execution_count": 41,
     "metadata": {},
     "output_type": "execute_result"
    }
   ],
   "source": [
    "pred"
   ]
  }
 ],
 "metadata": {
  "kernelspec": {
   "display_name": "Python 3",
   "language": "python",
   "name": "python3"
  },
  "language_info": {
   "codemirror_mode": {
    "name": "ipython",
    "version": 3
   },
   "file_extension": ".py",
   "mimetype": "text/x-python",
   "name": "python",
   "nbconvert_exporter": "python",
   "pygments_lexer": "ipython3",
   "version": "3.6.3"
  }
 },
 "nbformat": 4,
 "nbformat_minor": 2
}
