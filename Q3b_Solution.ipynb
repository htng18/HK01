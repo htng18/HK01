{
 "cells": [
  {
   "cell_type": "markdown",
   "metadata": {},
   "source": [
    "# Q3b Song Recommendation system for female users"
   ]
  },
  {
   "cell_type": "code",
   "execution_count": 1,
   "metadata": {
    "collapsed": true
   },
   "outputs": [],
   "source": [
    "import pandas as pd\n",
    "import numpy as np"
   ]
  },
  {
   "cell_type": "markdown",
   "metadata": {},
   "source": [
    "# Data preprocessing & transformation"
   ]
  },
  {
   "cell_type": "code",
   "execution_count": 2,
   "metadata": {
    "collapsed": true
   },
   "outputs": [],
   "source": [
    "# First data file \"usersha1-artmbid-artname-plays.tsv\"\n",
    "# This contains the historical information on the playing song for each user"
   ]
  },
  {
   "cell_type": "code",
   "execution_count": 3,
   "metadata": {
    "collapsed": true
   },
   "outputs": [],
   "source": [
    "# Loading the file \"usersha1-artmbid-artname-plays.tsv\"\n",
    "df=pd.read_csv(\"usersha1-artmbid-artname-plays.tsv\",delimiter='\\t',names=[ \"user-mboxsha\",\"musicbrainz-artist-id\", \"artist-name\",\"plays\"])"
   ]
  },
  {
   "cell_type": "code",
   "execution_count": 4,
   "metadata": {},
   "outputs": [
    {
     "data": {
      "text/html": [
       "<div>\n",
       "<style>\n",
       "    .dataframe thead tr:only-child th {\n",
       "        text-align: right;\n",
       "    }\n",
       "\n",
       "    .dataframe thead th {\n",
       "        text-align: left;\n",
       "    }\n",
       "\n",
       "    .dataframe tbody tr th {\n",
       "        vertical-align: top;\n",
       "    }\n",
       "</style>\n",
       "<table border=\"1\" class=\"dataframe\">\n",
       "  <thead>\n",
       "    <tr style=\"text-align: right;\">\n",
       "      <th></th>\n",
       "      <th>user-mboxsha</th>\n",
       "      <th>musicbrainz-artist-id</th>\n",
       "      <th>artist-name</th>\n",
       "      <th>plays</th>\n",
       "    </tr>\n",
       "  </thead>\n",
       "  <tbody>\n",
       "    <tr>\n",
       "      <th>0</th>\n",
       "      <td>00000c289a1829a808ac09c00daf10bc3c4e223b</td>\n",
       "      <td>3bd73256-3905-4f3a-97e2-8b341527f805</td>\n",
       "      <td>betty blowtorch</td>\n",
       "      <td>2137</td>\n",
       "    </tr>\n",
       "    <tr>\n",
       "      <th>1</th>\n",
       "      <td>00000c289a1829a808ac09c00daf10bc3c4e223b</td>\n",
       "      <td>f2fb0ff0-5679-42ec-a55c-15109ce6e320</td>\n",
       "      <td>die Ärzte</td>\n",
       "      <td>1099</td>\n",
       "    </tr>\n",
       "    <tr>\n",
       "      <th>2</th>\n",
       "      <td>00000c289a1829a808ac09c00daf10bc3c4e223b</td>\n",
       "      <td>b3ae82c2-e60b-4551-a76d-6620f1b456aa</td>\n",
       "      <td>melissa etheridge</td>\n",
       "      <td>897</td>\n",
       "    </tr>\n",
       "    <tr>\n",
       "      <th>3</th>\n",
       "      <td>00000c289a1829a808ac09c00daf10bc3c4e223b</td>\n",
       "      <td>3d6bbeb7-f90e-4d10-b440-e153c0d10b53</td>\n",
       "      <td>elvenking</td>\n",
       "      <td>717</td>\n",
       "    </tr>\n",
       "    <tr>\n",
       "      <th>4</th>\n",
       "      <td>00000c289a1829a808ac09c00daf10bc3c4e223b</td>\n",
       "      <td>bbd2ffd7-17f4-4506-8572-c1ea58c3f9a8</td>\n",
       "      <td>juliette &amp; the licks</td>\n",
       "      <td>706</td>\n",
       "    </tr>\n",
       "  </tbody>\n",
       "</table>\n",
       "</div>"
      ],
      "text/plain": [
       "                               user-mboxsha  \\\n",
       "0  00000c289a1829a808ac09c00daf10bc3c4e223b   \n",
       "1  00000c289a1829a808ac09c00daf10bc3c4e223b   \n",
       "2  00000c289a1829a808ac09c00daf10bc3c4e223b   \n",
       "3  00000c289a1829a808ac09c00daf10bc3c4e223b   \n",
       "4  00000c289a1829a808ac09c00daf10bc3c4e223b   \n",
       "\n",
       "                  musicbrainz-artist-id           artist-name  plays  \n",
       "0  3bd73256-3905-4f3a-97e2-8b341527f805       betty blowtorch   2137  \n",
       "1  f2fb0ff0-5679-42ec-a55c-15109ce6e320             die Ärzte   1099  \n",
       "2  b3ae82c2-e60b-4551-a76d-6620f1b456aa     melissa etheridge    897  \n",
       "3  3d6bbeb7-f90e-4d10-b440-e153c0d10b53             elvenking    717  \n",
       "4  bbd2ffd7-17f4-4506-8572-c1ea58c3f9a8  juliette & the licks    706  "
      ]
     },
     "execution_count": 4,
     "metadata": {},
     "output_type": "execute_result"
    }
   ],
   "source": [
    "df.head()"
   ]
  },
  {
   "cell_type": "code",
   "execution_count": 5,
   "metadata": {
    "collapsed": true
   },
   "outputs": [],
   "source": [
    "df.dropna(inplace=True)"
   ]
  },
  {
   "cell_type": "code",
   "execution_count": 6,
   "metadata": {
    "collapsed": true
   },
   "outputs": [],
   "source": [
    "df.drop(df.index[-47:-1],inplace=True)\n",
    "df.drop(df.index[-1],inplace=True)"
   ]
  },
  {
   "cell_type": "code",
   "execution_count": 7,
   "metadata": {
    "collapsed": true
   },
   "outputs": [],
   "source": [
    "# Store the artist name in a separate data frame"
   ]
  },
  {
   "cell_type": "code",
   "execution_count": 8,
   "metadata": {
    "collapsed": true
   },
   "outputs": [],
   "source": [
    "df_aname=df[[\"musicbrainz-artist-id\",\"artist-name\"]]"
   ]
  },
  {
   "cell_type": "code",
   "execution_count": 9,
   "metadata": {
    "collapsed": true
   },
   "outputs": [],
   "source": [
    "df_aname=df_aname.drop_duplicates(subset=\"musicbrainz-artist-id\",keep='first')"
   ]
  },
  {
   "cell_type": "code",
   "execution_count": 10,
   "metadata": {
    "collapsed": true
   },
   "outputs": [],
   "source": [
    "df.drop(['artist-name'],axis=1,inplace=True)"
   ]
  },
  {
   "cell_type": "code",
   "execution_count": 11,
   "metadata": {},
   "outputs": [
    {
     "data": {
      "text/html": [
       "<div>\n",
       "<style>\n",
       "    .dataframe thead tr:only-child th {\n",
       "        text-align: right;\n",
       "    }\n",
       "\n",
       "    .dataframe thead th {\n",
       "        text-align: left;\n",
       "    }\n",
       "\n",
       "    .dataframe tbody tr th {\n",
       "        vertical-align: top;\n",
       "    }\n",
       "</style>\n",
       "<table border=\"1\" class=\"dataframe\">\n",
       "  <thead>\n",
       "    <tr style=\"text-align: right;\">\n",
       "      <th></th>\n",
       "      <th>user-mboxsha</th>\n",
       "      <th>musicbrainz-artist-id</th>\n",
       "      <th>plays</th>\n",
       "    </tr>\n",
       "  </thead>\n",
       "  <tbody>\n",
       "    <tr>\n",
       "      <th>0</th>\n",
       "      <td>00000c289a1829a808ac09c00daf10bc3c4e223b</td>\n",
       "      <td>3bd73256-3905-4f3a-97e2-8b341527f805</td>\n",
       "      <td>2137</td>\n",
       "    </tr>\n",
       "    <tr>\n",
       "      <th>1</th>\n",
       "      <td>00000c289a1829a808ac09c00daf10bc3c4e223b</td>\n",
       "      <td>f2fb0ff0-5679-42ec-a55c-15109ce6e320</td>\n",
       "      <td>1099</td>\n",
       "    </tr>\n",
       "    <tr>\n",
       "      <th>2</th>\n",
       "      <td>00000c289a1829a808ac09c00daf10bc3c4e223b</td>\n",
       "      <td>b3ae82c2-e60b-4551-a76d-6620f1b456aa</td>\n",
       "      <td>897</td>\n",
       "    </tr>\n",
       "    <tr>\n",
       "      <th>3</th>\n",
       "      <td>00000c289a1829a808ac09c00daf10bc3c4e223b</td>\n",
       "      <td>3d6bbeb7-f90e-4d10-b440-e153c0d10b53</td>\n",
       "      <td>717</td>\n",
       "    </tr>\n",
       "    <tr>\n",
       "      <th>4</th>\n",
       "      <td>00000c289a1829a808ac09c00daf10bc3c4e223b</td>\n",
       "      <td>bbd2ffd7-17f4-4506-8572-c1ea58c3f9a8</td>\n",
       "      <td>706</td>\n",
       "    </tr>\n",
       "  </tbody>\n",
       "</table>\n",
       "</div>"
      ],
      "text/plain": [
       "                               user-mboxsha  \\\n",
       "0  00000c289a1829a808ac09c00daf10bc3c4e223b   \n",
       "1  00000c289a1829a808ac09c00daf10bc3c4e223b   \n",
       "2  00000c289a1829a808ac09c00daf10bc3c4e223b   \n",
       "3  00000c289a1829a808ac09c00daf10bc3c4e223b   \n",
       "4  00000c289a1829a808ac09c00daf10bc3c4e223b   \n",
       "\n",
       "                  musicbrainz-artist-id  plays  \n",
       "0  3bd73256-3905-4f3a-97e2-8b341527f805   2137  \n",
       "1  f2fb0ff0-5679-42ec-a55c-15109ce6e320   1099  \n",
       "2  b3ae82c2-e60b-4551-a76d-6620f1b456aa    897  \n",
       "3  3d6bbeb7-f90e-4d10-b440-e153c0d10b53    717  \n",
       "4  bbd2ffd7-17f4-4506-8572-c1ea58c3f9a8    706  "
      ]
     },
     "execution_count": 11,
     "metadata": {},
     "output_type": "execute_result"
    }
   ],
   "source": [
    "df.head()"
   ]
  },
  {
   "cell_type": "code",
   "execution_count": 12,
   "metadata": {
    "collapsed": true
   },
   "outputs": [],
   "source": [
    "# User feature matrix"
   ]
  },
  {
   "cell_type": "code",
   "execution_count": 13,
   "metadata": {
    "collapsed": true
   },
   "outputs": [],
   "source": [
    "# Loading the data file with user basic information\n",
    "df1=pd.read_csv(\"usersha1-profile.tsv\",delimiter='\\t',names=[\"user-mboxsha\", \"gender\",\"age\",\"country\",\"signup\"])"
   ]
  },
  {
   "cell_type": "code",
   "execution_count": 14,
   "metadata": {},
   "outputs": [
    {
     "name": "stdout",
     "output_type": "stream",
     "text": [
      "<class 'pandas.core.frame.DataFrame'>\n",
      "RangeIndex: 359347 entries, 0 to 359346\n",
      "Data columns (total 5 columns):\n",
      "user-mboxsha    359347 non-null object\n",
      "gender          326572 non-null object\n",
      "age             284447 non-null float64\n",
      "country         359347 non-null object\n",
      "signup          359347 non-null object\n",
      "dtypes: float64(1), object(4)\n",
      "memory usage: 13.7+ MB\n"
     ]
    }
   ],
   "source": [
    "df1.info()"
   ]
  },
  {
   "cell_type": "code",
   "execution_count": 15,
   "metadata": {
    "collapsed": true
   },
   "outputs": [],
   "source": [
    "df1=df1.set_index('user-mboxsha')"
   ]
  },
  {
   "cell_type": "code",
   "execution_count": 16,
   "metadata": {
    "collapsed": true
   },
   "outputs": [],
   "source": [
    "df1.dropna(subset=['gender'],inplace=True)"
   ]
  },
  {
   "cell_type": "code",
   "execution_count": 17,
   "metadata": {
    "collapsed": true
   },
   "outputs": [],
   "source": [
    "# Fill the missing values in age with the median\n",
    "median=df1['age'].median()\n",
    "df1['age']=df1['age'].fillna(median)"
   ]
  },
  {
   "cell_type": "code",
   "execution_count": 18,
   "metadata": {
    "collapsed": true
   },
   "outputs": [],
   "source": [
    "# Fill the unreasonable age values with the median\n",
    "mask=(df1.age>150) | (df1.age<0)\n",
    "df1.loc[mask,'age']=median"
   ]
  },
  {
   "cell_type": "code",
   "execution_count": 19,
   "metadata": {
    "collapsed": true
   },
   "outputs": [],
   "source": [
    "# Normalize the age column\n",
    "mean=df1['age'].mean()\n",
    "std=df1['age'].std()\n",
    "df1['age']=(df1['age']-mean)/std"
   ]
  },
  {
   "cell_type": "code",
   "execution_count": 20,
   "metadata": {
    "collapsed": true
   },
   "outputs": [],
   "source": [
    "# Encoding the categorical variables\n",
    "df1=pd.concat([df1,pd.get_dummies(df1['gender'],drop_first=True)],axis=1)\n",
    "df1=pd.concat([df1,pd.get_dummies(df1['country'],drop_first=True)],axis=1)"
   ]
  },
  {
   "cell_type": "code",
   "execution_count": 21,
   "metadata": {
    "collapsed": true
   },
   "outputs": [],
   "source": [
    "df1.drop(['gender','country'],axis=1,inplace=True)"
   ]
  },
  {
   "cell_type": "code",
   "execution_count": 22,
   "metadata": {
    "collapsed": true
   },
   "outputs": [],
   "source": [
    "# Transform the date in string format onto the datetime format\n",
    "df1['signup']=pd.to_datetime(df1['signup'])"
   ]
  },
  {
   "cell_type": "code",
   "execution_count": 23,
   "metadata": {
    "collapsed": true
   },
   "outputs": [],
   "source": [
    "# Calculate the difference between the signup date and today\n",
    "df1['signup']=abs(df1['signup']-pd.datetime.now().date())"
   ]
  },
  {
   "cell_type": "code",
   "execution_count": 24,
   "metadata": {
    "collapsed": true
   },
   "outputs": [],
   "source": [
    "# Normalize the signup column\n",
    "mean=df1['signup'].mean()\n",
    "std=df1['signup'].std()\n",
    "df1['signup']=(df1['signup']-mean)/std"
   ]
  },
  {
   "cell_type": "code",
   "execution_count": 25,
   "metadata": {
    "collapsed": true
   },
   "outputs": [],
   "source": [
    "# dataframe df1 stores the user feature matrix"
   ]
  },
  {
   "cell_type": "code",
   "execution_count": 26,
   "metadata": {},
   "outputs": [
    {
     "data": {
      "text/html": [
       "<div>\n",
       "<style>\n",
       "    .dataframe thead tr:only-child th {\n",
       "        text-align: right;\n",
       "    }\n",
       "\n",
       "    .dataframe thead th {\n",
       "        text-align: left;\n",
       "    }\n",
       "\n",
       "    .dataframe tbody tr th {\n",
       "        vertical-align: top;\n",
       "    }\n",
       "</style>\n",
       "<table border=\"1\" class=\"dataframe\">\n",
       "  <thead>\n",
       "    <tr style=\"text-align: right;\">\n",
       "      <th></th>\n",
       "      <th>age</th>\n",
       "      <th>signup</th>\n",
       "      <th>m</th>\n",
       "      <th>Albania</th>\n",
       "      <th>Algeria</th>\n",
       "      <th>American Samoa</th>\n",
       "      <th>Andorra</th>\n",
       "      <th>Angola</th>\n",
       "      <th>Anguilla</th>\n",
       "      <th>Antarctica</th>\n",
       "      <th>...</th>\n",
       "      <th>Vanuatu</th>\n",
       "      <th>Venezuela</th>\n",
       "      <th>Viet Nam</th>\n",
       "      <th>Virgin Islands, British</th>\n",
       "      <th>Virgin Islands, U.s.</th>\n",
       "      <th>Wallis and Futuna</th>\n",
       "      <th>Western Sahara</th>\n",
       "      <th>Yemen</th>\n",
       "      <th>Zambia</th>\n",
       "      <th>Zimbabwe</th>\n",
       "    </tr>\n",
       "    <tr>\n",
       "      <th>user-mboxsha</th>\n",
       "      <th></th>\n",
       "      <th></th>\n",
       "      <th></th>\n",
       "      <th></th>\n",
       "      <th></th>\n",
       "      <th></th>\n",
       "      <th></th>\n",
       "      <th></th>\n",
       "      <th></th>\n",
       "      <th></th>\n",
       "      <th></th>\n",
       "      <th></th>\n",
       "      <th></th>\n",
       "      <th></th>\n",
       "      <th></th>\n",
       "      <th></th>\n",
       "      <th></th>\n",
       "      <th></th>\n",
       "      <th></th>\n",
       "      <th></th>\n",
       "      <th></th>\n",
       "    </tr>\n",
       "  </thead>\n",
       "  <tbody>\n",
       "    <tr>\n",
       "      <th>00000c289a1829a808ac09c00daf10bc3c4e223b</th>\n",
       "      <td>-0.335593</td>\n",
       "      <td>0.425123</td>\n",
       "      <td>0</td>\n",
       "      <td>0</td>\n",
       "      <td>0</td>\n",
       "      <td>0</td>\n",
       "      <td>0</td>\n",
       "      <td>0</td>\n",
       "      <td>0</td>\n",
       "      <td>0</td>\n",
       "      <td>...</td>\n",
       "      <td>0</td>\n",
       "      <td>0</td>\n",
       "      <td>0</td>\n",
       "      <td>0</td>\n",
       "      <td>0</td>\n",
       "      <td>0</td>\n",
       "      <td>0</td>\n",
       "      <td>0</td>\n",
       "      <td>0</td>\n",
       "      <td>0</td>\n",
       "    </tr>\n",
       "    <tr>\n",
       "      <th>00001411dc427966b17297bf4d69e7e193135d89</th>\n",
       "      <td>-0.217526</td>\n",
       "      <td>-0.299309</td>\n",
       "      <td>0</td>\n",
       "      <td>0</td>\n",
       "      <td>0</td>\n",
       "      <td>0</td>\n",
       "      <td>0</td>\n",
       "      <td>0</td>\n",
       "      <td>0</td>\n",
       "      <td>0</td>\n",
       "      <td>...</td>\n",
       "      <td>0</td>\n",
       "      <td>0</td>\n",
       "      <td>0</td>\n",
       "      <td>0</td>\n",
       "      <td>0</td>\n",
       "      <td>0</td>\n",
       "      <td>0</td>\n",
       "      <td>0</td>\n",
       "      <td>0</td>\n",
       "      <td>0</td>\n",
       "    </tr>\n",
       "    <tr>\n",
       "      <th>000063d3fe1cf2ba248b9e3c3f0334845a27a6bf</th>\n",
       "      <td>-0.689796</td>\n",
       "      <td>-0.644953</td>\n",
       "      <td>1</td>\n",
       "      <td>0</td>\n",
       "      <td>0</td>\n",
       "      <td>0</td>\n",
       "      <td>0</td>\n",
       "      <td>0</td>\n",
       "      <td>0</td>\n",
       "      <td>0</td>\n",
       "      <td>...</td>\n",
       "      <td>0</td>\n",
       "      <td>0</td>\n",
       "      <td>0</td>\n",
       "      <td>0</td>\n",
       "      <td>0</td>\n",
       "      <td>0</td>\n",
       "      <td>0</td>\n",
       "      <td>0</td>\n",
       "      <td>0</td>\n",
       "      <td>0</td>\n",
       "    </tr>\n",
       "    <tr>\n",
       "      <th>00007a47085b9aab8af55f52ec8846ac479ac4fe</th>\n",
       "      <td>0.372812</td>\n",
       "      <td>1.301070</td>\n",
       "      <td>1</td>\n",
       "      <td>0</td>\n",
       "      <td>0</td>\n",
       "      <td>0</td>\n",
       "      <td>0</td>\n",
       "      <td>0</td>\n",
       "      <td>0</td>\n",
       "      <td>0</td>\n",
       "      <td>...</td>\n",
       "      <td>0</td>\n",
       "      <td>0</td>\n",
       "      <td>0</td>\n",
       "      <td>0</td>\n",
       "      <td>0</td>\n",
       "      <td>0</td>\n",
       "      <td>0</td>\n",
       "      <td>0</td>\n",
       "      <td>0</td>\n",
       "      <td>0</td>\n",
       "    </tr>\n",
       "    <tr>\n",
       "      <th>0000c176103e538d5c9828e695fed4f7ae42dd01</th>\n",
       "      <td>-0.571728</td>\n",
       "      <td>1.331847</td>\n",
       "      <td>1</td>\n",
       "      <td>0</td>\n",
       "      <td>0</td>\n",
       "      <td>0</td>\n",
       "      <td>0</td>\n",
       "      <td>0</td>\n",
       "      <td>0</td>\n",
       "      <td>0</td>\n",
       "      <td>...</td>\n",
       "      <td>0</td>\n",
       "      <td>0</td>\n",
       "      <td>0</td>\n",
       "      <td>0</td>\n",
       "      <td>0</td>\n",
       "      <td>0</td>\n",
       "      <td>0</td>\n",
       "      <td>0</td>\n",
       "      <td>0</td>\n",
       "      <td>0</td>\n",
       "    </tr>\n",
       "  </tbody>\n",
       "</table>\n",
       "<p>5 rows × 241 columns</p>\n",
       "</div>"
      ],
      "text/plain": [
       "                                               age    signup  m  Albania  \\\n",
       "user-mboxsha                                                               \n",
       "00000c289a1829a808ac09c00daf10bc3c4e223b -0.335593  0.425123  0        0   \n",
       "00001411dc427966b17297bf4d69e7e193135d89 -0.217526 -0.299309  0        0   \n",
       "000063d3fe1cf2ba248b9e3c3f0334845a27a6bf -0.689796 -0.644953  1        0   \n",
       "00007a47085b9aab8af55f52ec8846ac479ac4fe  0.372812  1.301070  1        0   \n",
       "0000c176103e538d5c9828e695fed4f7ae42dd01 -0.571728  1.331847  1        0   \n",
       "\n",
       "                                          Algeria  American Samoa  Andorra  \\\n",
       "user-mboxsha                                                                 \n",
       "00000c289a1829a808ac09c00daf10bc3c4e223b        0               0        0   \n",
       "00001411dc427966b17297bf4d69e7e193135d89        0               0        0   \n",
       "000063d3fe1cf2ba248b9e3c3f0334845a27a6bf        0               0        0   \n",
       "00007a47085b9aab8af55f52ec8846ac479ac4fe        0               0        0   \n",
       "0000c176103e538d5c9828e695fed4f7ae42dd01        0               0        0   \n",
       "\n",
       "                                          Angola  Anguilla  Antarctica  \\\n",
       "user-mboxsha                                                             \n",
       "00000c289a1829a808ac09c00daf10bc3c4e223b       0         0           0   \n",
       "00001411dc427966b17297bf4d69e7e193135d89       0         0           0   \n",
       "000063d3fe1cf2ba248b9e3c3f0334845a27a6bf       0         0           0   \n",
       "00007a47085b9aab8af55f52ec8846ac479ac4fe       0         0           0   \n",
       "0000c176103e538d5c9828e695fed4f7ae42dd01       0         0           0   \n",
       "\n",
       "                                            ...     Vanuatu  Venezuela  \\\n",
       "user-mboxsha                                ...                          \n",
       "00000c289a1829a808ac09c00daf10bc3c4e223b    ...           0          0   \n",
       "00001411dc427966b17297bf4d69e7e193135d89    ...           0          0   \n",
       "000063d3fe1cf2ba248b9e3c3f0334845a27a6bf    ...           0          0   \n",
       "00007a47085b9aab8af55f52ec8846ac479ac4fe    ...           0          0   \n",
       "0000c176103e538d5c9828e695fed4f7ae42dd01    ...           0          0   \n",
       "\n",
       "                                          Viet Nam  Virgin Islands, British  \\\n",
       "user-mboxsha                                                                  \n",
       "00000c289a1829a808ac09c00daf10bc3c4e223b         0                        0   \n",
       "00001411dc427966b17297bf4d69e7e193135d89         0                        0   \n",
       "000063d3fe1cf2ba248b9e3c3f0334845a27a6bf         0                        0   \n",
       "00007a47085b9aab8af55f52ec8846ac479ac4fe         0                        0   \n",
       "0000c176103e538d5c9828e695fed4f7ae42dd01         0                        0   \n",
       "\n",
       "                                          Virgin Islands, U.s.  \\\n",
       "user-mboxsha                                                     \n",
       "00000c289a1829a808ac09c00daf10bc3c4e223b                     0   \n",
       "00001411dc427966b17297bf4d69e7e193135d89                     0   \n",
       "000063d3fe1cf2ba248b9e3c3f0334845a27a6bf                     0   \n",
       "00007a47085b9aab8af55f52ec8846ac479ac4fe                     0   \n",
       "0000c176103e538d5c9828e695fed4f7ae42dd01                     0   \n",
       "\n",
       "                                          Wallis and Futuna  Western Sahara  \\\n",
       "user-mboxsha                                                                  \n",
       "00000c289a1829a808ac09c00daf10bc3c4e223b                  0               0   \n",
       "00001411dc427966b17297bf4d69e7e193135d89                  0               0   \n",
       "000063d3fe1cf2ba248b9e3c3f0334845a27a6bf                  0               0   \n",
       "00007a47085b9aab8af55f52ec8846ac479ac4fe                  0               0   \n",
       "0000c176103e538d5c9828e695fed4f7ae42dd01                  0               0   \n",
       "\n",
       "                                          Yemen  Zambia  Zimbabwe  \n",
       "user-mboxsha                                                       \n",
       "00000c289a1829a808ac09c00daf10bc3c4e223b      0       0         0  \n",
       "00001411dc427966b17297bf4d69e7e193135d89      0       0         0  \n",
       "000063d3fe1cf2ba248b9e3c3f0334845a27a6bf      0       0         0  \n",
       "00007a47085b9aab8af55f52ec8846ac479ac4fe      0       0         0  \n",
       "0000c176103e538d5c9828e695fed4f7ae42dd01      0       0         0  \n",
       "\n",
       "[5 rows x 241 columns]"
      ]
     },
     "execution_count": 26,
     "metadata": {},
     "output_type": "execute_result"
    }
   ],
   "source": [
    "df1.head()"
   ]
  },
  {
   "cell_type": "markdown",
   "metadata": {},
   "source": [
    "# Create Rating Matrix"
   ]
  },
  {
   "cell_type": "code",
   "execution_count": 27,
   "metadata": {
    "collapsed": true
   },
   "outputs": [],
   "source": [
    "# Subset the user histortical information from the dataframe df "
   ]
  },
  {
   "cell_type": "code",
   "execution_count": 28,
   "metadata": {
    "collapsed": true
   },
   "outputs": [],
   "source": [
    "user=df['user-mboxsha'].unique()"
   ]
  },
  {
   "cell_type": "code",
   "execution_count": 29,
   "metadata": {
    "collapsed": true
   },
   "outputs": [],
   "source": [
    "user[100]\n",
    "last_index=df[df['user-mboxsha']==user[100]].index[-1]\n",
    "sdf=df[:last_index]\n",
    "Rating_matrix=sdf.pivot_table(index='user-mboxsha',columns='musicbrainz-artist-id',values='plays')"
   ]
  },
  {
   "cell_type": "code",
   "execution_count": 30,
   "metadata": {
    "collapsed": true
   },
   "outputs": [],
   "source": [
    "first_index=last_index\n",
    "for i in range(200,1200,100):\n",
    "    last_index=df[df['user-mboxsha']==user[i]].index[-1]\n",
    "    sdf=df[first_index:last_index]\n",
    "    Rating_matrix2=sdf.pivot_table(index='user-mboxsha',columns='musicbrainz-artist-id',values='plays')\n",
    "    Rating_matrix=pd.concat([Rating_matrix,Rating_matrix2],axis=0)\n",
    "    first_index=last_index"
   ]
  },
  {
   "cell_type": "code",
   "execution_count": 31,
   "metadata": {
    "collapsed": true
   },
   "outputs": [],
   "source": [
    "# Remove the duplicate user id\n",
    "Rating_matrix=Rating_matrix.sum(level=0)"
   ]
  },
  {
   "cell_type": "code",
   "execution_count": 32,
   "metadata": {
    "collapsed": true
   },
   "outputs": [],
   "source": [
    "Rating_matrix.fillna(0.0,inplace=True)"
   ]
  },
  {
   "cell_type": "code",
   "execution_count": 33,
   "metadata": {
    "collapsed": true
   },
   "outputs": [],
   "source": [
    "# Rating of each user is calculated by dividing the total number of plays of that user\n",
    "Rating_matrix=Rating_matrix.div(Rating_matrix.sum(axis=1),axis=0)"
   ]
  },
  {
   "cell_type": "code",
   "execution_count": 34,
   "metadata": {
    "collapsed": true
   },
   "outputs": [],
   "source": [
    "common_index=sorted(list(set(df1.index).intersection(Rating_matrix.index)))"
   ]
  },
  {
   "cell_type": "code",
   "execution_count": 35,
   "metadata": {
    "collapsed": true
   },
   "outputs": [],
   "source": [
    "Rating_matrix=Rating_matrix[Rating_matrix.index.isin(common_index)]"
   ]
  },
  {
   "cell_type": "code",
   "execution_count": 36,
   "metadata": {},
   "outputs": [
    {
     "data": {
      "text/html": [
       "<div>\n",
       "<style>\n",
       "    .dataframe thead tr:only-child th {\n",
       "        text-align: right;\n",
       "    }\n",
       "\n",
       "    .dataframe thead th {\n",
       "        text-align: left;\n",
       "    }\n",
       "\n",
       "    .dataframe tbody tr th {\n",
       "        vertical-align: top;\n",
       "    }\n",
       "</style>\n",
       "<table border=\"1\" class=\"dataframe\">\n",
       "  <thead>\n",
       "    <tr style=\"text-align: right;\">\n",
       "      <th></th>\n",
       "      <th>00034ede-a1f1-4219-be39-02f36853373e</th>\n",
       "      <th>0004537a-4b12-43eb-a023-04009e738d2e</th>\n",
       "      <th>000842dd-08e9-485f-a9b6-8ada9f1c4a12</th>\n",
       "      <th>000b1990-4dd8-4835-abcd-bb6038c13ac7</th>\n",
       "      <th>000d90ec-d64c-48a1-b775-e726fd240e9f</th>\n",
       "      <th>000fc734-b7e1-4a01-92d1-f544261b43f5</th>\n",
       "      <th>000fecd9-ae03-49bc-9a08-636dde5d405d</th>\n",
       "      <th>0011f816-f0a8-4603-b82d-6f021d214672</th>\n",
       "      <th>0017e52a-e23a-437a-a5c1-18ed4ebe968e</th>\n",
       "      <th>0019749d-ee29-4a5f-ab17-6bfa11deb969</th>\n",
       "      <th>...</th>\n",
       "      <th>ffdf4cb7-5d2e-403e-a5ba-b19c18d0feb4</th>\n",
       "      <th>ffdf7f27-a12c-40fe-8ae3-050b46fc2f79</th>\n",
       "      <th>ffe16bba-4d84-409b-8f22-5242c60b930f</th>\n",
       "      <th>ffe53025-23f7-4c80-ac9d-442a3275d4a6</th>\n",
       "      <th>ffe54de6-5cee-4c0f-8329-f5946f9bc3ff</th>\n",
       "      <th>ffe8acdb-3fa3-4f7e-8939-c3862138502d</th>\n",
       "      <th>ffe9ec08-6b6b-4993-9394-e280b429dbfd</th>\n",
       "      <th>ffee2206-eb9e-4b39-9447-8977e269ed0e</th>\n",
       "      <th>fffc6a35-ae65-48be-bcc0-9d604e05665e</th>\n",
       "      <th>fffed9ff-98c6-458a-8379-47e7fb4ba6ec</th>\n",
       "    </tr>\n",
       "    <tr>\n",
       "      <th>user-mboxsha</th>\n",
       "      <th></th>\n",
       "      <th></th>\n",
       "      <th></th>\n",
       "      <th></th>\n",
       "      <th></th>\n",
       "      <th></th>\n",
       "      <th></th>\n",
       "      <th></th>\n",
       "      <th></th>\n",
       "      <th></th>\n",
       "      <th></th>\n",
       "      <th></th>\n",
       "      <th></th>\n",
       "      <th></th>\n",
       "      <th></th>\n",
       "      <th></th>\n",
       "      <th></th>\n",
       "      <th></th>\n",
       "      <th></th>\n",
       "      <th></th>\n",
       "      <th></th>\n",
       "    </tr>\n",
       "  </thead>\n",
       "  <tbody>\n",
       "    <tr>\n",
       "      <th>00000c289a1829a808ac09c00daf10bc3c4e223b</th>\n",
       "      <td>0.0</td>\n",
       "      <td>0.0</td>\n",
       "      <td>0.0</td>\n",
       "      <td>0.0</td>\n",
       "      <td>0.0</td>\n",
       "      <td>0.0</td>\n",
       "      <td>0.0</td>\n",
       "      <td>0.0</td>\n",
       "      <td>0.0</td>\n",
       "      <td>0.0</td>\n",
       "      <td>...</td>\n",
       "      <td>0.0</td>\n",
       "      <td>0.0</td>\n",
       "      <td>0.0</td>\n",
       "      <td>0.0</td>\n",
       "      <td>0.0</td>\n",
       "      <td>0.0</td>\n",
       "      <td>0.0</td>\n",
       "      <td>0.0</td>\n",
       "      <td>0.0</td>\n",
       "      <td>0.0</td>\n",
       "    </tr>\n",
       "    <tr>\n",
       "      <th>00001411dc427966b17297bf4d69e7e193135d89</th>\n",
       "      <td>0.0</td>\n",
       "      <td>0.0</td>\n",
       "      <td>0.0</td>\n",
       "      <td>0.0</td>\n",
       "      <td>0.0</td>\n",
       "      <td>0.0</td>\n",
       "      <td>0.0</td>\n",
       "      <td>0.0</td>\n",
       "      <td>0.0</td>\n",
       "      <td>0.0</td>\n",
       "      <td>...</td>\n",
       "      <td>0.0</td>\n",
       "      <td>0.0</td>\n",
       "      <td>0.0</td>\n",
       "      <td>0.0</td>\n",
       "      <td>0.0</td>\n",
       "      <td>0.0</td>\n",
       "      <td>0.0</td>\n",
       "      <td>0.0</td>\n",
       "      <td>0.0</td>\n",
       "      <td>0.0</td>\n",
       "    </tr>\n",
       "    <tr>\n",
       "      <th>000063d3fe1cf2ba248b9e3c3f0334845a27a6bf</th>\n",
       "      <td>0.0</td>\n",
       "      <td>0.0</td>\n",
       "      <td>0.0</td>\n",
       "      <td>0.0</td>\n",
       "      <td>0.0</td>\n",
       "      <td>0.0</td>\n",
       "      <td>0.0</td>\n",
       "      <td>0.0</td>\n",
       "      <td>0.0</td>\n",
       "      <td>0.0</td>\n",
       "      <td>...</td>\n",
       "      <td>0.0</td>\n",
       "      <td>0.0</td>\n",
       "      <td>0.0</td>\n",
       "      <td>0.0</td>\n",
       "      <td>0.0</td>\n",
       "      <td>0.0</td>\n",
       "      <td>0.0</td>\n",
       "      <td>0.0</td>\n",
       "      <td>0.0</td>\n",
       "      <td>0.0</td>\n",
       "    </tr>\n",
       "    <tr>\n",
       "      <th>00007a47085b9aab8af55f52ec8846ac479ac4fe</th>\n",
       "      <td>0.0</td>\n",
       "      <td>0.0</td>\n",
       "      <td>0.0</td>\n",
       "      <td>0.0</td>\n",
       "      <td>0.0</td>\n",
       "      <td>0.0</td>\n",
       "      <td>0.0</td>\n",
       "      <td>0.0</td>\n",
       "      <td>0.0</td>\n",
       "      <td>0.0</td>\n",
       "      <td>...</td>\n",
       "      <td>0.0</td>\n",
       "      <td>0.0</td>\n",
       "      <td>0.0</td>\n",
       "      <td>0.0</td>\n",
       "      <td>0.0</td>\n",
       "      <td>0.0</td>\n",
       "      <td>0.0</td>\n",
       "      <td>0.0</td>\n",
       "      <td>0.0</td>\n",
       "      <td>0.0</td>\n",
       "    </tr>\n",
       "    <tr>\n",
       "      <th>0000c176103e538d5c9828e695fed4f7ae42dd01</th>\n",
       "      <td>0.0</td>\n",
       "      <td>0.0</td>\n",
       "      <td>0.0</td>\n",
       "      <td>0.0</td>\n",
       "      <td>0.0</td>\n",
       "      <td>0.0</td>\n",
       "      <td>0.0</td>\n",
       "      <td>0.0</td>\n",
       "      <td>0.0</td>\n",
       "      <td>0.0</td>\n",
       "      <td>...</td>\n",
       "      <td>0.0</td>\n",
       "      <td>0.0</td>\n",
       "      <td>0.0</td>\n",
       "      <td>0.0</td>\n",
       "      <td>0.0</td>\n",
       "      <td>0.0</td>\n",
       "      <td>0.0</td>\n",
       "      <td>0.0</td>\n",
       "      <td>0.0</td>\n",
       "      <td>0.0</td>\n",
       "    </tr>\n",
       "  </tbody>\n",
       "</table>\n",
       "<p>5 rows × 16038 columns</p>\n",
       "</div>"
      ],
      "text/plain": [
       "                                          00034ede-a1f1-4219-be39-02f36853373e  \\\n",
       "user-mboxsha                                                                     \n",
       "00000c289a1829a808ac09c00daf10bc3c4e223b                                   0.0   \n",
       "00001411dc427966b17297bf4d69e7e193135d89                                   0.0   \n",
       "000063d3fe1cf2ba248b9e3c3f0334845a27a6bf                                   0.0   \n",
       "00007a47085b9aab8af55f52ec8846ac479ac4fe                                   0.0   \n",
       "0000c176103e538d5c9828e695fed4f7ae42dd01                                   0.0   \n",
       "\n",
       "                                          0004537a-4b12-43eb-a023-04009e738d2e  \\\n",
       "user-mboxsha                                                                     \n",
       "00000c289a1829a808ac09c00daf10bc3c4e223b                                   0.0   \n",
       "00001411dc427966b17297bf4d69e7e193135d89                                   0.0   \n",
       "000063d3fe1cf2ba248b9e3c3f0334845a27a6bf                                   0.0   \n",
       "00007a47085b9aab8af55f52ec8846ac479ac4fe                                   0.0   \n",
       "0000c176103e538d5c9828e695fed4f7ae42dd01                                   0.0   \n",
       "\n",
       "                                          000842dd-08e9-485f-a9b6-8ada9f1c4a12  \\\n",
       "user-mboxsha                                                                     \n",
       "00000c289a1829a808ac09c00daf10bc3c4e223b                                   0.0   \n",
       "00001411dc427966b17297bf4d69e7e193135d89                                   0.0   \n",
       "000063d3fe1cf2ba248b9e3c3f0334845a27a6bf                                   0.0   \n",
       "00007a47085b9aab8af55f52ec8846ac479ac4fe                                   0.0   \n",
       "0000c176103e538d5c9828e695fed4f7ae42dd01                                   0.0   \n",
       "\n",
       "                                          000b1990-4dd8-4835-abcd-bb6038c13ac7  \\\n",
       "user-mboxsha                                                                     \n",
       "00000c289a1829a808ac09c00daf10bc3c4e223b                                   0.0   \n",
       "00001411dc427966b17297bf4d69e7e193135d89                                   0.0   \n",
       "000063d3fe1cf2ba248b9e3c3f0334845a27a6bf                                   0.0   \n",
       "00007a47085b9aab8af55f52ec8846ac479ac4fe                                   0.0   \n",
       "0000c176103e538d5c9828e695fed4f7ae42dd01                                   0.0   \n",
       "\n",
       "                                          000d90ec-d64c-48a1-b775-e726fd240e9f  \\\n",
       "user-mboxsha                                                                     \n",
       "00000c289a1829a808ac09c00daf10bc3c4e223b                                   0.0   \n",
       "00001411dc427966b17297bf4d69e7e193135d89                                   0.0   \n",
       "000063d3fe1cf2ba248b9e3c3f0334845a27a6bf                                   0.0   \n",
       "00007a47085b9aab8af55f52ec8846ac479ac4fe                                   0.0   \n",
       "0000c176103e538d5c9828e695fed4f7ae42dd01                                   0.0   \n",
       "\n",
       "                                          000fc734-b7e1-4a01-92d1-f544261b43f5  \\\n",
       "user-mboxsha                                                                     \n",
       "00000c289a1829a808ac09c00daf10bc3c4e223b                                   0.0   \n",
       "00001411dc427966b17297bf4d69e7e193135d89                                   0.0   \n",
       "000063d3fe1cf2ba248b9e3c3f0334845a27a6bf                                   0.0   \n",
       "00007a47085b9aab8af55f52ec8846ac479ac4fe                                   0.0   \n",
       "0000c176103e538d5c9828e695fed4f7ae42dd01                                   0.0   \n",
       "\n",
       "                                          000fecd9-ae03-49bc-9a08-636dde5d405d  \\\n",
       "user-mboxsha                                                                     \n",
       "00000c289a1829a808ac09c00daf10bc3c4e223b                                   0.0   \n",
       "00001411dc427966b17297bf4d69e7e193135d89                                   0.0   \n",
       "000063d3fe1cf2ba248b9e3c3f0334845a27a6bf                                   0.0   \n",
       "00007a47085b9aab8af55f52ec8846ac479ac4fe                                   0.0   \n",
       "0000c176103e538d5c9828e695fed4f7ae42dd01                                   0.0   \n",
       "\n",
       "                                          0011f816-f0a8-4603-b82d-6f021d214672  \\\n",
       "user-mboxsha                                                                     \n",
       "00000c289a1829a808ac09c00daf10bc3c4e223b                                   0.0   \n",
       "00001411dc427966b17297bf4d69e7e193135d89                                   0.0   \n",
       "000063d3fe1cf2ba248b9e3c3f0334845a27a6bf                                   0.0   \n",
       "00007a47085b9aab8af55f52ec8846ac479ac4fe                                   0.0   \n",
       "0000c176103e538d5c9828e695fed4f7ae42dd01                                   0.0   \n",
       "\n",
       "                                          0017e52a-e23a-437a-a5c1-18ed4ebe968e  \\\n",
       "user-mboxsha                                                                     \n",
       "00000c289a1829a808ac09c00daf10bc3c4e223b                                   0.0   \n",
       "00001411dc427966b17297bf4d69e7e193135d89                                   0.0   \n",
       "000063d3fe1cf2ba248b9e3c3f0334845a27a6bf                                   0.0   \n",
       "00007a47085b9aab8af55f52ec8846ac479ac4fe                                   0.0   \n",
       "0000c176103e538d5c9828e695fed4f7ae42dd01                                   0.0   \n",
       "\n",
       "                                          0019749d-ee29-4a5f-ab17-6bfa11deb969  \\\n",
       "user-mboxsha                                                                     \n",
       "00000c289a1829a808ac09c00daf10bc3c4e223b                                   0.0   \n",
       "00001411dc427966b17297bf4d69e7e193135d89                                   0.0   \n",
       "000063d3fe1cf2ba248b9e3c3f0334845a27a6bf                                   0.0   \n",
       "00007a47085b9aab8af55f52ec8846ac479ac4fe                                   0.0   \n",
       "0000c176103e538d5c9828e695fed4f7ae42dd01                                   0.0   \n",
       "\n",
       "                                                          ...                   \\\n",
       "user-mboxsha                                              ...                    \n",
       "00000c289a1829a808ac09c00daf10bc3c4e223b                  ...                    \n",
       "00001411dc427966b17297bf4d69e7e193135d89                  ...                    \n",
       "000063d3fe1cf2ba248b9e3c3f0334845a27a6bf                  ...                    \n",
       "00007a47085b9aab8af55f52ec8846ac479ac4fe                  ...                    \n",
       "0000c176103e538d5c9828e695fed4f7ae42dd01                  ...                    \n",
       "\n",
       "                                          ffdf4cb7-5d2e-403e-a5ba-b19c18d0feb4  \\\n",
       "user-mboxsha                                                                     \n",
       "00000c289a1829a808ac09c00daf10bc3c4e223b                                   0.0   \n",
       "00001411dc427966b17297bf4d69e7e193135d89                                   0.0   \n",
       "000063d3fe1cf2ba248b9e3c3f0334845a27a6bf                                   0.0   \n",
       "00007a47085b9aab8af55f52ec8846ac479ac4fe                                   0.0   \n",
       "0000c176103e538d5c9828e695fed4f7ae42dd01                                   0.0   \n",
       "\n",
       "                                          ffdf7f27-a12c-40fe-8ae3-050b46fc2f79  \\\n",
       "user-mboxsha                                                                     \n",
       "00000c289a1829a808ac09c00daf10bc3c4e223b                                   0.0   \n",
       "00001411dc427966b17297bf4d69e7e193135d89                                   0.0   \n",
       "000063d3fe1cf2ba248b9e3c3f0334845a27a6bf                                   0.0   \n",
       "00007a47085b9aab8af55f52ec8846ac479ac4fe                                   0.0   \n",
       "0000c176103e538d5c9828e695fed4f7ae42dd01                                   0.0   \n",
       "\n",
       "                                          ffe16bba-4d84-409b-8f22-5242c60b930f  \\\n",
       "user-mboxsha                                                                     \n",
       "00000c289a1829a808ac09c00daf10bc3c4e223b                                   0.0   \n",
       "00001411dc427966b17297bf4d69e7e193135d89                                   0.0   \n",
       "000063d3fe1cf2ba248b9e3c3f0334845a27a6bf                                   0.0   \n",
       "00007a47085b9aab8af55f52ec8846ac479ac4fe                                   0.0   \n",
       "0000c176103e538d5c9828e695fed4f7ae42dd01                                   0.0   \n",
       "\n",
       "                                          ffe53025-23f7-4c80-ac9d-442a3275d4a6  \\\n",
       "user-mboxsha                                                                     \n",
       "00000c289a1829a808ac09c00daf10bc3c4e223b                                   0.0   \n",
       "00001411dc427966b17297bf4d69e7e193135d89                                   0.0   \n",
       "000063d3fe1cf2ba248b9e3c3f0334845a27a6bf                                   0.0   \n",
       "00007a47085b9aab8af55f52ec8846ac479ac4fe                                   0.0   \n",
       "0000c176103e538d5c9828e695fed4f7ae42dd01                                   0.0   \n",
       "\n",
       "                                          ffe54de6-5cee-4c0f-8329-f5946f9bc3ff  \\\n",
       "user-mboxsha                                                                     \n",
       "00000c289a1829a808ac09c00daf10bc3c4e223b                                   0.0   \n",
       "00001411dc427966b17297bf4d69e7e193135d89                                   0.0   \n",
       "000063d3fe1cf2ba248b9e3c3f0334845a27a6bf                                   0.0   \n",
       "00007a47085b9aab8af55f52ec8846ac479ac4fe                                   0.0   \n",
       "0000c176103e538d5c9828e695fed4f7ae42dd01                                   0.0   \n",
       "\n",
       "                                          ffe8acdb-3fa3-4f7e-8939-c3862138502d  \\\n",
       "user-mboxsha                                                                     \n",
       "00000c289a1829a808ac09c00daf10bc3c4e223b                                   0.0   \n",
       "00001411dc427966b17297bf4d69e7e193135d89                                   0.0   \n",
       "000063d3fe1cf2ba248b9e3c3f0334845a27a6bf                                   0.0   \n",
       "00007a47085b9aab8af55f52ec8846ac479ac4fe                                   0.0   \n",
       "0000c176103e538d5c9828e695fed4f7ae42dd01                                   0.0   \n",
       "\n",
       "                                          ffe9ec08-6b6b-4993-9394-e280b429dbfd  \\\n",
       "user-mboxsha                                                                     \n",
       "00000c289a1829a808ac09c00daf10bc3c4e223b                                   0.0   \n",
       "00001411dc427966b17297bf4d69e7e193135d89                                   0.0   \n",
       "000063d3fe1cf2ba248b9e3c3f0334845a27a6bf                                   0.0   \n",
       "00007a47085b9aab8af55f52ec8846ac479ac4fe                                   0.0   \n",
       "0000c176103e538d5c9828e695fed4f7ae42dd01                                   0.0   \n",
       "\n",
       "                                          ffee2206-eb9e-4b39-9447-8977e269ed0e  \\\n",
       "user-mboxsha                                                                     \n",
       "00000c289a1829a808ac09c00daf10bc3c4e223b                                   0.0   \n",
       "00001411dc427966b17297bf4d69e7e193135d89                                   0.0   \n",
       "000063d3fe1cf2ba248b9e3c3f0334845a27a6bf                                   0.0   \n",
       "00007a47085b9aab8af55f52ec8846ac479ac4fe                                   0.0   \n",
       "0000c176103e538d5c9828e695fed4f7ae42dd01                                   0.0   \n",
       "\n",
       "                                          fffc6a35-ae65-48be-bcc0-9d604e05665e  \\\n",
       "user-mboxsha                                                                     \n",
       "00000c289a1829a808ac09c00daf10bc3c4e223b                                   0.0   \n",
       "00001411dc427966b17297bf4d69e7e193135d89                                   0.0   \n",
       "000063d3fe1cf2ba248b9e3c3f0334845a27a6bf                                   0.0   \n",
       "00007a47085b9aab8af55f52ec8846ac479ac4fe                                   0.0   \n",
       "0000c176103e538d5c9828e695fed4f7ae42dd01                                   0.0   \n",
       "\n",
       "                                          fffed9ff-98c6-458a-8379-47e7fb4ba6ec  \n",
       "user-mboxsha                                                                    \n",
       "00000c289a1829a808ac09c00daf10bc3c4e223b                                   0.0  \n",
       "00001411dc427966b17297bf4d69e7e193135d89                                   0.0  \n",
       "000063d3fe1cf2ba248b9e3c3f0334845a27a6bf                                   0.0  \n",
       "00007a47085b9aab8af55f52ec8846ac479ac4fe                                   0.0  \n",
       "0000c176103e538d5c9828e695fed4f7ae42dd01                                   0.0  \n",
       "\n",
       "[5 rows x 16038 columns]"
      ]
     },
     "execution_count": 36,
     "metadata": {},
     "output_type": "execute_result"
    }
   ],
   "source": [
    "Rating_matrix.head()"
   ]
  },
  {
   "cell_type": "code",
   "execution_count": 37,
   "metadata": {
    "collapsed": true
   },
   "outputs": [],
   "source": [
    "# Now the Rating matrix and the user-feature matrix have the common user\n",
    "df1=df1[df1.index.isin(common_index)]"
   ]
  },
  {
   "cell_type": "code",
   "execution_count": 38,
   "metadata": {},
   "outputs": [
    {
     "data": {
      "text/html": [
       "<div>\n",
       "<style>\n",
       "    .dataframe thead tr:only-child th {\n",
       "        text-align: right;\n",
       "    }\n",
       "\n",
       "    .dataframe thead th {\n",
       "        text-align: left;\n",
       "    }\n",
       "\n",
       "    .dataframe tbody tr th {\n",
       "        vertical-align: top;\n",
       "    }\n",
       "</style>\n",
       "<table border=\"1\" class=\"dataframe\">\n",
       "  <thead>\n",
       "    <tr style=\"text-align: right;\">\n",
       "      <th></th>\n",
       "      <th>age</th>\n",
       "      <th>signup</th>\n",
       "      <th>m</th>\n",
       "      <th>Albania</th>\n",
       "      <th>Algeria</th>\n",
       "      <th>American Samoa</th>\n",
       "      <th>Andorra</th>\n",
       "      <th>Angola</th>\n",
       "      <th>Anguilla</th>\n",
       "      <th>Antarctica</th>\n",
       "      <th>...</th>\n",
       "      <th>Vanuatu</th>\n",
       "      <th>Venezuela</th>\n",
       "      <th>Viet Nam</th>\n",
       "      <th>Virgin Islands, British</th>\n",
       "      <th>Virgin Islands, U.s.</th>\n",
       "      <th>Wallis and Futuna</th>\n",
       "      <th>Western Sahara</th>\n",
       "      <th>Yemen</th>\n",
       "      <th>Zambia</th>\n",
       "      <th>Zimbabwe</th>\n",
       "    </tr>\n",
       "    <tr>\n",
       "      <th>user-mboxsha</th>\n",
       "      <th></th>\n",
       "      <th></th>\n",
       "      <th></th>\n",
       "      <th></th>\n",
       "      <th></th>\n",
       "      <th></th>\n",
       "      <th></th>\n",
       "      <th></th>\n",
       "      <th></th>\n",
       "      <th></th>\n",
       "      <th></th>\n",
       "      <th></th>\n",
       "      <th></th>\n",
       "      <th></th>\n",
       "      <th></th>\n",
       "      <th></th>\n",
       "      <th></th>\n",
       "      <th></th>\n",
       "      <th></th>\n",
       "      <th></th>\n",
       "      <th></th>\n",
       "    </tr>\n",
       "  </thead>\n",
       "  <tbody>\n",
       "    <tr>\n",
       "      <th>00000c289a1829a808ac09c00daf10bc3c4e223b</th>\n",
       "      <td>-0.335593</td>\n",
       "      <td>0.425123</td>\n",
       "      <td>0</td>\n",
       "      <td>0</td>\n",
       "      <td>0</td>\n",
       "      <td>0</td>\n",
       "      <td>0</td>\n",
       "      <td>0</td>\n",
       "      <td>0</td>\n",
       "      <td>0</td>\n",
       "      <td>...</td>\n",
       "      <td>0</td>\n",
       "      <td>0</td>\n",
       "      <td>0</td>\n",
       "      <td>0</td>\n",
       "      <td>0</td>\n",
       "      <td>0</td>\n",
       "      <td>0</td>\n",
       "      <td>0</td>\n",
       "      <td>0</td>\n",
       "      <td>0</td>\n",
       "    </tr>\n",
       "    <tr>\n",
       "      <th>00001411dc427966b17297bf4d69e7e193135d89</th>\n",
       "      <td>-0.217526</td>\n",
       "      <td>-0.299309</td>\n",
       "      <td>0</td>\n",
       "      <td>0</td>\n",
       "      <td>0</td>\n",
       "      <td>0</td>\n",
       "      <td>0</td>\n",
       "      <td>0</td>\n",
       "      <td>0</td>\n",
       "      <td>0</td>\n",
       "      <td>...</td>\n",
       "      <td>0</td>\n",
       "      <td>0</td>\n",
       "      <td>0</td>\n",
       "      <td>0</td>\n",
       "      <td>0</td>\n",
       "      <td>0</td>\n",
       "      <td>0</td>\n",
       "      <td>0</td>\n",
       "      <td>0</td>\n",
       "      <td>0</td>\n",
       "    </tr>\n",
       "    <tr>\n",
       "      <th>000063d3fe1cf2ba248b9e3c3f0334845a27a6bf</th>\n",
       "      <td>-0.689796</td>\n",
       "      <td>-0.644953</td>\n",
       "      <td>1</td>\n",
       "      <td>0</td>\n",
       "      <td>0</td>\n",
       "      <td>0</td>\n",
       "      <td>0</td>\n",
       "      <td>0</td>\n",
       "      <td>0</td>\n",
       "      <td>0</td>\n",
       "      <td>...</td>\n",
       "      <td>0</td>\n",
       "      <td>0</td>\n",
       "      <td>0</td>\n",
       "      <td>0</td>\n",
       "      <td>0</td>\n",
       "      <td>0</td>\n",
       "      <td>0</td>\n",
       "      <td>0</td>\n",
       "      <td>0</td>\n",
       "      <td>0</td>\n",
       "    </tr>\n",
       "    <tr>\n",
       "      <th>00007a47085b9aab8af55f52ec8846ac479ac4fe</th>\n",
       "      <td>0.372812</td>\n",
       "      <td>1.301070</td>\n",
       "      <td>1</td>\n",
       "      <td>0</td>\n",
       "      <td>0</td>\n",
       "      <td>0</td>\n",
       "      <td>0</td>\n",
       "      <td>0</td>\n",
       "      <td>0</td>\n",
       "      <td>0</td>\n",
       "      <td>...</td>\n",
       "      <td>0</td>\n",
       "      <td>0</td>\n",
       "      <td>0</td>\n",
       "      <td>0</td>\n",
       "      <td>0</td>\n",
       "      <td>0</td>\n",
       "      <td>0</td>\n",
       "      <td>0</td>\n",
       "      <td>0</td>\n",
       "      <td>0</td>\n",
       "    </tr>\n",
       "    <tr>\n",
       "      <th>0000c176103e538d5c9828e695fed4f7ae42dd01</th>\n",
       "      <td>-0.571728</td>\n",
       "      <td>1.331847</td>\n",
       "      <td>1</td>\n",
       "      <td>0</td>\n",
       "      <td>0</td>\n",
       "      <td>0</td>\n",
       "      <td>0</td>\n",
       "      <td>0</td>\n",
       "      <td>0</td>\n",
       "      <td>0</td>\n",
       "      <td>...</td>\n",
       "      <td>0</td>\n",
       "      <td>0</td>\n",
       "      <td>0</td>\n",
       "      <td>0</td>\n",
       "      <td>0</td>\n",
       "      <td>0</td>\n",
       "      <td>0</td>\n",
       "      <td>0</td>\n",
       "      <td>0</td>\n",
       "      <td>0</td>\n",
       "    </tr>\n",
       "  </tbody>\n",
       "</table>\n",
       "<p>5 rows × 241 columns</p>\n",
       "</div>"
      ],
      "text/plain": [
       "                                               age    signup  m  Albania  \\\n",
       "user-mboxsha                                                               \n",
       "00000c289a1829a808ac09c00daf10bc3c4e223b -0.335593  0.425123  0        0   \n",
       "00001411dc427966b17297bf4d69e7e193135d89 -0.217526 -0.299309  0        0   \n",
       "000063d3fe1cf2ba248b9e3c3f0334845a27a6bf -0.689796 -0.644953  1        0   \n",
       "00007a47085b9aab8af55f52ec8846ac479ac4fe  0.372812  1.301070  1        0   \n",
       "0000c176103e538d5c9828e695fed4f7ae42dd01 -0.571728  1.331847  1        0   \n",
       "\n",
       "                                          Algeria  American Samoa  Andorra  \\\n",
       "user-mboxsha                                                                 \n",
       "00000c289a1829a808ac09c00daf10bc3c4e223b        0               0        0   \n",
       "00001411dc427966b17297bf4d69e7e193135d89        0               0        0   \n",
       "000063d3fe1cf2ba248b9e3c3f0334845a27a6bf        0               0        0   \n",
       "00007a47085b9aab8af55f52ec8846ac479ac4fe        0               0        0   \n",
       "0000c176103e538d5c9828e695fed4f7ae42dd01        0               0        0   \n",
       "\n",
       "                                          Angola  Anguilla  Antarctica  \\\n",
       "user-mboxsha                                                             \n",
       "00000c289a1829a808ac09c00daf10bc3c4e223b       0         0           0   \n",
       "00001411dc427966b17297bf4d69e7e193135d89       0         0           0   \n",
       "000063d3fe1cf2ba248b9e3c3f0334845a27a6bf       0         0           0   \n",
       "00007a47085b9aab8af55f52ec8846ac479ac4fe       0         0           0   \n",
       "0000c176103e538d5c9828e695fed4f7ae42dd01       0         0           0   \n",
       "\n",
       "                                            ...     Vanuatu  Venezuela  \\\n",
       "user-mboxsha                                ...                          \n",
       "00000c289a1829a808ac09c00daf10bc3c4e223b    ...           0          0   \n",
       "00001411dc427966b17297bf4d69e7e193135d89    ...           0          0   \n",
       "000063d3fe1cf2ba248b9e3c3f0334845a27a6bf    ...           0          0   \n",
       "00007a47085b9aab8af55f52ec8846ac479ac4fe    ...           0          0   \n",
       "0000c176103e538d5c9828e695fed4f7ae42dd01    ...           0          0   \n",
       "\n",
       "                                          Viet Nam  Virgin Islands, British  \\\n",
       "user-mboxsha                                                                  \n",
       "00000c289a1829a808ac09c00daf10bc3c4e223b         0                        0   \n",
       "00001411dc427966b17297bf4d69e7e193135d89         0                        0   \n",
       "000063d3fe1cf2ba248b9e3c3f0334845a27a6bf         0                        0   \n",
       "00007a47085b9aab8af55f52ec8846ac479ac4fe         0                        0   \n",
       "0000c176103e538d5c9828e695fed4f7ae42dd01         0                        0   \n",
       "\n",
       "                                          Virgin Islands, U.s.  \\\n",
       "user-mboxsha                                                     \n",
       "00000c289a1829a808ac09c00daf10bc3c4e223b                     0   \n",
       "00001411dc427966b17297bf4d69e7e193135d89                     0   \n",
       "000063d3fe1cf2ba248b9e3c3f0334845a27a6bf                     0   \n",
       "00007a47085b9aab8af55f52ec8846ac479ac4fe                     0   \n",
       "0000c176103e538d5c9828e695fed4f7ae42dd01                     0   \n",
       "\n",
       "                                          Wallis and Futuna  Western Sahara  \\\n",
       "user-mboxsha                                                                  \n",
       "00000c289a1829a808ac09c00daf10bc3c4e223b                  0               0   \n",
       "00001411dc427966b17297bf4d69e7e193135d89                  0               0   \n",
       "000063d3fe1cf2ba248b9e3c3f0334845a27a6bf                  0               0   \n",
       "00007a47085b9aab8af55f52ec8846ac479ac4fe                  0               0   \n",
       "0000c176103e538d5c9828e695fed4f7ae42dd01                  0               0   \n",
       "\n",
       "                                          Yemen  Zambia  Zimbabwe  \n",
       "user-mboxsha                                                       \n",
       "00000c289a1829a808ac09c00daf10bc3c4e223b      0       0         0  \n",
       "00001411dc427966b17297bf4d69e7e193135d89      0       0         0  \n",
       "000063d3fe1cf2ba248b9e3c3f0334845a27a6bf      0       0         0  \n",
       "00007a47085b9aab8af55f52ec8846ac479ac4fe      0       0         0  \n",
       "0000c176103e538d5c9828e695fed4f7ae42dd01      0       0         0  \n",
       "\n",
       "[5 rows x 241 columns]"
      ]
     },
     "execution_count": 38,
     "metadata": {},
     "output_type": "execute_result"
    }
   ],
   "source": [
    "df1.head()"
   ]
  },
  {
   "cell_type": "code",
   "execution_count": 39,
   "metadata": {
    "collapsed": true
   },
   "outputs": [],
   "source": [
    "# Subset the required artist name corresponding to the Rating matrix"
   ]
  },
  {
   "cell_type": "code",
   "execution_count": 40,
   "metadata": {},
   "outputs": [
    {
     "data": {
      "text/html": [
       "<div>\n",
       "<style>\n",
       "    .dataframe thead tr:only-child th {\n",
       "        text-align: right;\n",
       "    }\n",
       "\n",
       "    .dataframe thead th {\n",
       "        text-align: left;\n",
       "    }\n",
       "\n",
       "    .dataframe tbody tr th {\n",
       "        vertical-align: top;\n",
       "    }\n",
       "</style>\n",
       "<table border=\"1\" class=\"dataframe\">\n",
       "  <thead>\n",
       "    <tr style=\"text-align: right;\">\n",
       "      <th></th>\n",
       "      <th>musicbrainz-artist-id</th>\n",
       "      <th>artist-name</th>\n",
       "    </tr>\n",
       "  </thead>\n",
       "  <tbody>\n",
       "    <tr>\n",
       "      <th>0</th>\n",
       "      <td>3bd73256-3905-4f3a-97e2-8b341527f805</td>\n",
       "      <td>betty blowtorch</td>\n",
       "    </tr>\n",
       "    <tr>\n",
       "      <th>1</th>\n",
       "      <td>f2fb0ff0-5679-42ec-a55c-15109ce6e320</td>\n",
       "      <td>die Ärzte</td>\n",
       "    </tr>\n",
       "    <tr>\n",
       "      <th>2</th>\n",
       "      <td>b3ae82c2-e60b-4551-a76d-6620f1b456aa</td>\n",
       "      <td>melissa etheridge</td>\n",
       "    </tr>\n",
       "    <tr>\n",
       "      <th>3</th>\n",
       "      <td>3d6bbeb7-f90e-4d10-b440-e153c0d10b53</td>\n",
       "      <td>elvenking</td>\n",
       "    </tr>\n",
       "    <tr>\n",
       "      <th>4</th>\n",
       "      <td>bbd2ffd7-17f4-4506-8572-c1ea58c3f9a8</td>\n",
       "      <td>juliette &amp; the licks</td>\n",
       "    </tr>\n",
       "  </tbody>\n",
       "</table>\n",
       "</div>"
      ],
      "text/plain": [
       "                  musicbrainz-artist-id           artist-name\n",
       "0  3bd73256-3905-4f3a-97e2-8b341527f805       betty blowtorch\n",
       "1  f2fb0ff0-5679-42ec-a55c-15109ce6e320             die Ärzte\n",
       "2  b3ae82c2-e60b-4551-a76d-6620f1b456aa     melissa etheridge\n",
       "3  3d6bbeb7-f90e-4d10-b440-e153c0d10b53             elvenking\n",
       "4  bbd2ffd7-17f4-4506-8572-c1ea58c3f9a8  juliette & the licks"
      ]
     },
     "execution_count": 40,
     "metadata": {},
     "output_type": "execute_result"
    }
   ],
   "source": [
    "Sub_aname=df_aname[df_aname['musicbrainz-artist-id'].isin(Rating_matrix.columns)]\n",
    "Sub_aname.head()"
   ]
  },
  {
   "cell_type": "code",
   "execution_count": 41,
   "metadata": {},
   "outputs": [
    {
     "name": "stderr",
     "output_type": "stream",
     "text": [
      "C:\\Users\\HoT\\Anaconda3_2\\lib\\site-packages\\ipykernel_launcher.py:1: SettingWithCopyWarning: \n",
      "A value is trying to be set on a copy of a slice from a DataFrame\n",
      "\n",
      "See the caveats in the documentation: http://pandas.pydata.org/pandas-docs/stable/indexing.html#indexing-view-versus-copy\n",
      "  \"\"\"Entry point for launching an IPython kernel.\n"
     ]
    }
   ],
   "source": [
    "Sub_aname.sort_values(by='musicbrainz-artist-id',inplace=True)"
   ]
  },
  {
   "cell_type": "code",
   "execution_count": 42,
   "metadata": {
    "collapsed": true
   },
   "outputs": [],
   "source": [
    "Sub_aname=Sub_aname.set_index('musicbrainz-artist-id')"
   ]
  },
  {
   "cell_type": "code",
   "execution_count": 43,
   "metadata": {},
   "outputs": [
    {
     "data": {
      "text/html": [
       "<div>\n",
       "<style>\n",
       "    .dataframe thead tr:only-child th {\n",
       "        text-align: right;\n",
       "    }\n",
       "\n",
       "    .dataframe thead th {\n",
       "        text-align: left;\n",
       "    }\n",
       "\n",
       "    .dataframe tbody tr th {\n",
       "        vertical-align: top;\n",
       "    }\n",
       "</style>\n",
       "<table border=\"1\" class=\"dataframe\">\n",
       "  <thead>\n",
       "    <tr style=\"text-align: right;\">\n",
       "      <th></th>\n",
       "      <th>artist-name</th>\n",
       "    </tr>\n",
       "    <tr>\n",
       "      <th>musicbrainz-artist-id</th>\n",
       "      <th></th>\n",
       "    </tr>\n",
       "  </thead>\n",
       "  <tbody>\n",
       "    <tr>\n",
       "      <th>00034ede-a1f1-4219-be39-02f36853373e</th>\n",
       "      <td>o rappa</td>\n",
       "    </tr>\n",
       "    <tr>\n",
       "      <th>0004537a-4b12-43eb-a023-04009e738d2e</th>\n",
       "      <td>ultra naté</td>\n",
       "    </tr>\n",
       "    <tr>\n",
       "      <th>000842dd-08e9-485f-a9b6-8ada9f1c4a12</th>\n",
       "      <td>rumillajta</td>\n",
       "    </tr>\n",
       "    <tr>\n",
       "      <th>000b1990-4dd8-4835-abcd-bb6038c13ac7</th>\n",
       "      <td>hayden</td>\n",
       "    </tr>\n",
       "    <tr>\n",
       "      <th>000d90ec-d64c-48a1-b775-e726fd240e9f</th>\n",
       "      <td>get cape. wear cape. fly</td>\n",
       "    </tr>\n",
       "  </tbody>\n",
       "</table>\n",
       "</div>"
      ],
      "text/plain": [
       "                                                   artist-name\n",
       "musicbrainz-artist-id                                         \n",
       "00034ede-a1f1-4219-be39-02f36853373e                   o rappa\n",
       "0004537a-4b12-43eb-a023-04009e738d2e                ultra naté\n",
       "000842dd-08e9-485f-a9b6-8ada9f1c4a12                rumillajta\n",
       "000b1990-4dd8-4835-abcd-bb6038c13ac7                    hayden\n",
       "000d90ec-d64c-48a1-b775-e726fd240e9f  get cape. wear cape. fly"
      ]
     },
     "execution_count": 43,
     "metadata": {},
     "output_type": "execute_result"
    }
   ],
   "source": [
    "Sub_aname.head()"
   ]
  },
  {
   "cell_type": "markdown",
   "metadata": {},
   "source": [
    "# Recommendation "
   ]
  },
  {
   "cell_type": "code",
   "execution_count": 44,
   "metadata": {
    "collapsed": true
   },
   "outputs": [],
   "source": [
    "# The train and test sets are obtained by dividing the Rating matrix in a half\n",
    "row,column=Rating_matrix.shape\n",
    "train=Rating_matrix[0:int(row*.5)]\n",
    "test=Rating_matrix[int(row*.5):2*int(row*.5)]"
   ]
  },
  {
   "cell_type": "code",
   "execution_count": 45,
   "metadata": {
    "collapsed": true
   },
   "outputs": [],
   "source": [
    "from scipy.sparse import coo_matrix\n",
    "from scipy.sparse import csr_matrix"
   ]
  },
  {
   "cell_type": "code",
   "execution_count": 46,
   "metadata": {
    "collapsed": true
   },
   "outputs": [],
   "source": [
    "# Transform the train and test sets into the format coo and csr matrices"
   ]
  },
  {
   "cell_type": "code",
   "execution_count": 47,
   "metadata": {
    "collapsed": true
   },
   "outputs": [],
   "source": [
    "train_row,train_column=train.shape\n",
    "train_coo = coo_matrix(train, shape=(train_row, train_column))"
   ]
  },
  {
   "cell_type": "code",
   "execution_count": 48,
   "metadata": {
    "collapsed": true
   },
   "outputs": [],
   "source": [
    "test_row,test_column=test.shape\n",
    "test_coo = coo_matrix(test, shape=(test_row, test_column))"
   ]
  },
  {
   "cell_type": "code",
   "execution_count": 49,
   "metadata": {
    "collapsed": true
   },
   "outputs": [],
   "source": [
    "# Obtain the user feature matrices for the train and test sets"
   ]
  },
  {
   "cell_type": "code",
   "execution_count": 50,
   "metadata": {
    "collapsed": true
   },
   "outputs": [],
   "source": [
    "ufeature_train=df1[0:train_row]\n",
    "ufeature_test=df1[train_row:2*train_row]"
   ]
  },
  {
   "cell_type": "code",
   "execution_count": 51,
   "metadata": {
    "collapsed": true
   },
   "outputs": [],
   "source": [
    "row1,column1=ufeature_train.shape\n",
    "ufeafure_train_csr=csr_matrix(ufeature_train,shape=(row1,column1))"
   ]
  },
  {
   "cell_type": "code",
   "execution_count": 52,
   "metadata": {
    "collapsed": true
   },
   "outputs": [],
   "source": [
    "row2,column2=ufeature_test.shape\n",
    "ufeafure_test_csr=csr_matrix(ufeature_test,shape=(row2,column2))"
   ]
  },
  {
   "cell_type": "code",
   "execution_count": 53,
   "metadata": {
    "collapsed": true
   },
   "outputs": [],
   "source": [
    "# Subset the female index and location from the user feature matrix"
   ]
  },
  {
   "cell_type": "code",
   "execution_count": 54,
   "metadata": {
    "collapsed": true
   },
   "outputs": [],
   "source": [
    "female_index=ufeature_train[ufeature_train['m']==0].index"
   ]
  },
  {
   "cell_type": "code",
   "execution_count": 55,
   "metadata": {
    "collapsed": true
   },
   "outputs": [],
   "source": [
    "female_list=[]\n",
    "for i in female_index:\n",
    "    female_list.append(train.index.get_loc(i))"
   ]
  },
  {
   "cell_type": "code",
   "execution_count": 56,
   "metadata": {},
   "outputs": [
    {
     "name": "stderr",
     "output_type": "stream",
     "text": [
      "C:\\Users\\HoT\\Anaconda3_2\\lib\\site-packages\\lightfm\\_lightfm_fast.py:9: UserWarning: LightFM was compiled without OpenMP support. Only a single thread will be used.\n",
      "  warnings.warn('LightFM was compiled without OpenMP support. '\n"
     ]
    }
   ],
   "source": [
    "from lightfm import LightFM\n",
    "from lightfm.evaluation import precision_at_k,auc_score"
   ]
  },
  {
   "cell_type": "code",
   "execution_count": 66,
   "metadata": {
    "collapsed": true
   },
   "outputs": [],
   "source": [
    "# Parameters for training model\n",
    "alpha = 5e-3\n",
    "model = LightFM(no_components=50,learning_rate=0.001, loss='warp',learning_schedule='adagrad')"
   ]
  },
  {
   "cell_type": "code",
   "execution_count": 67,
   "metadata": {
    "collapsed": true
   },
   "outputs": [],
   "source": [
    "# Training the data set with the train set"
   ]
  },
  {
   "cell_type": "code",
   "execution_count": 68,
   "metadata": {},
   "outputs": [
    {
     "data": {
      "text/plain": [
       "<lightfm.lightfm.LightFM at 0x1f1826227f0>"
      ]
     },
     "execution_count": 68,
     "metadata": {},
     "output_type": "execute_result"
    }
   ],
   "source": [
    "model.fit(train_coo, user_features=ufeafure_train_csr,epochs=200)"
   ]
  },
  {
   "cell_type": "code",
   "execution_count": 69,
   "metadata": {
    "collapsed": true
   },
   "outputs": [],
   "source": [
    "train_precision = precision_at_k(model, train_coo, user_features=ufeafure_train_csr, k=5).mean()\n",
    "test_precision = precision_at_k(model, test_coo,user_features=ufeafure_test_csr,k=5).mean()"
   ]
  },
  {
   "cell_type": "code",
   "execution_count": 70,
   "metadata": {},
   "outputs": [
    {
     "data": {
      "text/plain": [
       "(0.17405191, 0.17085829)"
      ]
     },
     "execution_count": 70,
     "metadata": {},
     "output_type": "execute_result"
    }
   ],
   "source": [
    "# Precision for predicting top k recommendations \n",
    "train_precision, test_precision"
   ]
  },
  {
   "cell_type": "code",
   "execution_count": 71,
   "metadata": {
    "collapsed": true
   },
   "outputs": [],
   "source": [
    "# AUC scores for train and test sets\n",
    "train_auc = auc_score(model, train_coo,user_features=ufeafure_train_csr).mean()\n",
    "test_auc = auc_score(model, test_coo,user_features=ufeafure_test_csr).mean()"
   ]
  },
  {
   "cell_type": "code",
   "execution_count": 72,
   "metadata": {},
   "outputs": [
    {
     "name": "stdout",
     "output_type": "stream",
     "text": [
      "AUC: train 0.86, test 0.72.\n"
     ]
    }
   ],
   "source": [
    "print('AUC: train %.2f, test %.2f.' % (train_auc, test_auc))"
   ]
  },
  {
   "cell_type": "markdown",
   "metadata": {},
   "source": [
    "# Recommendation function"
   ]
  },
  {
   "cell_type": "code",
   "execution_count": 73,
   "metadata": {
    "collapsed": true
   },
   "outputs": [],
   "source": [
    "def recommendation(model, data, aname, user_ids_loc, user_id_name):\n",
    "\n",
    "    \"\"\"This function provides the top 5 recommendation of the users.\n",
    "    argument:\n",
    "    model = trained model,\n",
    "    data = rating matrix\n",
    "    aname = np.array stores the artist names,\n",
    "    user_ids_loc = the required user index location,\n",
    "    user_id_name = the required user id,\n",
    "    \"\"\"\n",
    "\n",
    "    n_users, n_items = data.shape\n",
    "\n",
    "    for index, user_id in enumerate(user_ids_loc):\n",
    "        \n",
    "        scores = model.predict(user_id, np.arange(n_items))\n",
    "        top_items = aname[np.argsort(-scores)]\n",
    "        \n",
    "        print(\"User %s\" % user_id_name[index])\n",
    "    \n",
    "        print(\"     Recommended:\")\n",
    "        \n",
    "        for x in top_items[:5]:\n",
    "            print(\"        %s\" % x)"
   ]
  },
  {
   "cell_type": "markdown",
   "metadata": {},
   "source": [
    "# Example: Top 5 recommendations for 5 female users"
   ]
  },
  {
   "cell_type": "code",
   "execution_count": 74,
   "metadata": {},
   "outputs": [
    {
     "name": "stdout",
     "output_type": "stream",
     "text": [
      "User 00000c289a1829a808ac09c00daf10bc3c4e223b\n",
      "     Recommended:\n",
      "        ['fred astaire']\n",
      "        ['michelle williams']\n",
      "        ['mel tormé']\n",
      "        ['blossom dearie']\n",
      "        ['james morrison']\n",
      "User 00001411dc427966b17297bf4d69e7e193135d89\n",
      "     Recommended:\n",
      "        ['the shins']\n",
      "        ['death cab for cutie']\n",
      "        ['the decemberists']\n",
      "        ['sigur rós']\n",
      "        ['iron & wine']\n",
      "User 0000ef373bbd0d89ce796abae961f2705e8c1faf\n",
      "     Recommended:\n",
      "        ['radiohead']\n",
      "        ['coldplay']\n",
      "        ['the beatles']\n",
      "        ['the cure']\n",
      "        ['muse']\n",
      "User 0000f687d4fe9c1ed49620fbc5ed5b0d7798ea20\n",
      "     Recommended:\n",
      "        ['radiohead']\n",
      "        ['coldplay']\n",
      "        ['the cure']\n",
      "        ['portishead']\n",
      "        ['the beatles']\n",
      "User 0001bd96207f323b53652bf400702719ad456d3c\n",
      "     Recommended:\n",
      "        ['radiohead']\n",
      "        ['coldplay']\n",
      "        ['the cure']\n",
      "        ['portishead']\n",
      "        ['the beatles']\n"
     ]
    }
   ],
   "source": [
    "recommendation(model, train, Sub_aname.values, female_list[0:5], female_index)"
   ]
  }
 ],
 "metadata": {
  "kernelspec": {
   "display_name": "Python 3",
   "language": "python",
   "name": "python3"
  },
  "language_info": {
   "codemirror_mode": {
    "name": "ipython",
    "version": 3
   },
   "file_extension": ".py",
   "mimetype": "text/x-python",
   "name": "python",
   "nbconvert_exporter": "python",
   "pygments_lexer": "ipython3",
   "version": "3.6.3"
  }
 },
 "nbformat": 4,
 "nbformat_minor": 2
}
